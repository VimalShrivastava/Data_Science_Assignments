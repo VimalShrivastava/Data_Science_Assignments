{
  "nbformat": 4,
  "nbformat_minor": 0,
  "metadata": {
    "colab": {
      "provenance": [],
      "gpuType": "T4"
    },
    "kernelspec": {
      "name": "python3",
      "display_name": "Python 3"
    },
    "language_info": {
      "name": "python"
    },
    "accelerator": "GPU",
    "gpuClass": "standard"
  },
  "cells": [
    {
      "cell_type": "markdown",
      "source": [
        "Q1. Create one variable containing following type of data:\n",
        "\n",
        "(i) string\n",
        "\n",
        "(ii) list\n",
        "\n",
        "(iii) float\n",
        "\n",
        "(iv) tuple"
      ],
      "metadata": {
        "id": "WSwBkx4QOhT7"
      }
    },
    {
      "cell_type": "code",
      "source": [
        "str_var = \"Vimal\"\n",
        "list_var = [1, 2, 3, 4.5, \"vimal\"]\n",
        "float_var = 10.45\n",
        "tuple_var = (10, 20, \"DS\", \"ML\", 30.40)\n",
        "\n",
        "print(type(str_var))\n",
        "print(str_var)\n",
        "print(type(list_var))\n",
        "print(list_var)\n",
        "print(type(float_var))\n",
        "print(float_var)\n",
        "print(type(tuple_var))\n",
        "print(tuple_var)"
      ],
      "metadata": {
        "colab": {
          "base_uri": "https://localhost:8080/"
        },
        "id": "_EbDS01gOlE0",
        "outputId": "5c6bd35d-6c3a-417e-e0c5-1f97e1237fcb"
      },
      "execution_count": 2,
      "outputs": [
        {
          "output_type": "stream",
          "name": "stdout",
          "text": [
            "<class 'str'>\n",
            "Vimal\n",
            "<class 'list'>\n",
            "[1, 2, 3, 4.5, 'vimal']\n",
            "<class 'float'>\n",
            "10.45\n",
            "<class 'tuple'>\n",
            "(10, 20, 'DS', 'ML', 30.4)\n"
          ]
        }
      ]
    },
    {
      "cell_type": "markdown",
      "source": [
        "Q2. Given are some following variables containing data:\n",
        "\n",
        "(i) var1 = ‘ ‘\n",
        "\n",
        "(ii) var2 = ‘[ DS , ML , Python]’\n",
        "\n",
        "(iii) var3 = [ ‘DS’ , ’ML’ , ‘Python’ ]\n",
        "\n",
        "(iv) var4 = 1.\n",
        "\n",
        "What will be the data type of the above given variable?"
      ],
      "metadata": {
        "id": "RC_E-pQ8PmwT"
      }
    },
    {
      "cell_type": "code",
      "source": [
        "\"\"\"\n",
        "The data type of above given variables are as follows:\n",
        "(i) string\n",
        "(ii) String\n",
        "(iii) List\n",
        "(iv) Integer\n",
        "\"\"\"\n",
        "\n",
        "var1 = ''\n",
        "var2 = '[DS , ML , Python]'\n",
        "var3 = ['DS', 'ML', 'Python']\n",
        "var4 = 1\n",
        "\n",
        "print(type(var1))\n",
        "print(type(var2))\n",
        "print(type(var3))\n",
        "print(type(var4))"
      ],
      "metadata": {
        "colab": {
          "base_uri": "https://localhost:8080/"
        },
        "id": "Tm_8hDYCPowz",
        "outputId": "7e1d8ade-9b7b-47aa-c1e6-d77eacef2d91"
      },
      "execution_count": 3,
      "outputs": [
        {
          "output_type": "stream",
          "name": "stdout",
          "text": [
            "<class 'str'>\n",
            "<class 'str'>\n",
            "<class 'list'>\n",
            "<class 'int'>\n"
          ]
        }
      ]
    },
    {
      "cell_type": "markdown",
      "source": [
        "Q3. Explain the use of the following operators using an example:\n",
        "\n",
        "(i) /\n",
        "\n",
        "(ii) %\n",
        "\n",
        "(iii) //\n",
        "\n",
        "(iv) **"
      ],
      "metadata": {
        "id": "H7qA_LV4Q80h"
      }
    },
    {
      "cell_type": "code",
      "source": [
        "a = 3\n",
        "b = 2\n",
        "\n",
        "operator1 = a / b     #Operator1 (/) is division operator.\n",
        "operator2 = a % b     #Operator2 (%) is Modulus operator. It is used to get the remainder of a division.\n",
        "operator3 = a // b    #Operator3 (//) is floor division operator. It gives the result of division as the nearest whole number.\n",
        "operator4 = a ** b    #Operator4 (**) is an exponent operator. It will produce result of 3**2 as 3*3=9.\n",
        "\n",
        "print(operator1)\n",
        "print(operator2)\n",
        "print(operator3)\n",
        "print(operator4)"
      ],
      "metadata": {
        "colab": {
          "base_uri": "https://localhost:8080/"
        },
        "id": "ArizuD4JQ-HU",
        "outputId": "504bd4bf-77e7-40ae-f554-e1a4e1c4b84d"
      },
      "execution_count": 4,
      "outputs": [
        {
          "output_type": "stream",
          "name": "stdout",
          "text": [
            "1.5\n",
            "1\n",
            "1\n",
            "9\n"
          ]
        }
      ]
    },
    {
      "cell_type": "markdown",
      "source": [
        "Q4. Create a list of length 10 of your choice containing multiple types of data. Using for loop print the\n",
        "element and its data type."
      ],
      "metadata": {
        "id": "2_QVyPpKS6i7"
      }
    },
    {
      "cell_type": "code",
      "source": [
        "L = [10, 20, 30, 50.78, 70.40, \"Python\", \"DS\", \"ML\", True, False]\n",
        "\n",
        "for i in L:\n",
        "  print(i)\n",
        "  print(type(i))"
      ],
      "metadata": {
        "colab": {
          "base_uri": "https://localhost:8080/"
        },
        "id": "-ySt3aI4S7k-",
        "outputId": "c8ab0aa1-4385-4ee0-da22-508c11dd4258"
      },
      "execution_count": 6,
      "outputs": [
        {
          "output_type": "stream",
          "name": "stdout",
          "text": [
            "10\n",
            "<class 'int'>\n",
            "20\n",
            "<class 'int'>\n",
            "30\n",
            "<class 'int'>\n",
            "50.78\n",
            "<class 'float'>\n",
            "70.4\n",
            "<class 'float'>\n",
            "Python\n",
            "<class 'str'>\n",
            "DS\n",
            "<class 'str'>\n",
            "ML\n",
            "<class 'str'>\n",
            "True\n",
            "<class 'bool'>\n",
            "False\n",
            "<class 'bool'>\n"
          ]
        }
      ]
    },
    {
      "cell_type": "markdown",
      "source": [
        "Q5. Using a while loop, verify if the number A is purely divisible by number B and if so then how many\n",
        "times it can be divisible."
      ],
      "metadata": {
        "id": "H03Y-zUZbNDw"
      }
    },
    {
      "cell_type": "code",
      "source": [
        "A = int(input(\"Enter Number A: \"))\n",
        "B = int(input(\"Enter Number B: \"))\n",
        "\n",
        "while(A % B == 0):\n",
        "  print(\"Number A is purely divisible by Number B\")\n",
        "  print(\"It is divisible by {} times\".format(int(A/B)))\n",
        "  break\n",
        "else:\n",
        "  print(\"Number A is not purely divisible by Number B\")"
      ],
      "metadata": {
        "colab": {
          "base_uri": "https://localhost:8080/"
        },
        "id": "UjIzDTjebOUu",
        "outputId": "4fc7e6d3-53d8-4b33-a9f9-6749ba8a39aa"
      },
      "execution_count": 26,
      "outputs": [
        {
          "output_type": "stream",
          "name": "stdout",
          "text": [
            "Enter Number A: 10\n",
            "Enter Number B: 2\n",
            "Number A is purely divisible by Number B\n",
            "It is divisible by 5 times\n"
          ]
        }
      ]
    },
    {
      "cell_type": "markdown",
      "source": [
        "Q6. Create a list containing 25 int type data. Using for loop and if-else condition print if the element is\n",
        "divisible by 3 or not."
      ],
      "metadata": {
        "id": "hovxEd5tfrgd"
      }
    },
    {
      "cell_type": "code",
      "source": [
        "L2 = [1,2,3,4,5,6,7,8,9,10,11,12,13,14,15,16,17,18,19,20,21,22,23,24,25]\n",
        "\n",
        "for idx in L2:\n",
        "  if ((idx % 3)==0):\n",
        "    print(\"{} is divisible by 3\".format(idx))\n",
        "  else:\n",
        "    print(\"{} is not divisible by 3\".format(idx))"
      ],
      "metadata": {
        "colab": {
          "base_uri": "https://localhost:8080/"
        },
        "id": "sYYFTzz1ftQJ",
        "outputId": "d66ae8f5-ee3b-4370-f0fd-9664592be7cc"
      },
      "execution_count": 28,
      "outputs": [
        {
          "output_type": "stream",
          "name": "stdout",
          "text": [
            "1 is not divisible by 3\n",
            "2 is not divisible by 3\n",
            "3 is divisible by 3\n",
            "4 is not divisible by 3\n",
            "5 is not divisible by 3\n",
            "6 is divisible by 3\n",
            "7 is not divisible by 3\n",
            "8 is not divisible by 3\n",
            "9 is divisible by 3\n",
            "10 is not divisible by 3\n",
            "11 is not divisible by 3\n",
            "12 is divisible by 3\n",
            "13 is not divisible by 3\n",
            "14 is not divisible by 3\n",
            "15 is divisible by 3\n",
            "16 is not divisible by 3\n",
            "17 is not divisible by 3\n",
            "18 is divisible by 3\n",
            "19 is not divisible by 3\n",
            "20 is not divisible by 3\n",
            "21 is divisible by 3\n",
            "22 is not divisible by 3\n",
            "23 is not divisible by 3\n",
            "24 is divisible by 3\n",
            "25 is not divisible by 3\n"
          ]
        }
      ]
    },
    {
      "cell_type": "markdown",
      "source": [
        "Q7. What do you understand about mutable and immutable data types? Give examples for both showing\n",
        "this property"
      ],
      "metadata": {
        "id": "EpKG47CfgzJ3"
      }
    },
    {
      "cell_type": "code",
      "source": [
        "\"\"\"\n",
        "Mutable data types are those that allow to change their value at a particular index. For ex. List.\n",
        "In contrast, immutable data types don't allow this kind of operation. For ex. tuple.\n",
        "\"\"\"\n",
        "\n",
        "#Example of Mutable data type\n",
        "L3 = [1, 3, 5, 7]\n",
        "L3[0] = 9\n",
        "print(L3)\n",
        "\n",
        "#Example of immutable data type\n",
        "L3 = (1, 3, 5, 7)\n",
        "L3[0] = 9\n",
        "print(L3)"
      ],
      "metadata": {
        "colab": {
          "base_uri": "https://localhost:8080/",
          "height": 242
        },
        "id": "BgXAh4mog0EO",
        "outputId": "dc46e20a-9e16-49e7-bc02-573f3cb67493"
      },
      "execution_count": 30,
      "outputs": [
        {
          "output_type": "stream",
          "name": "stdout",
          "text": [
            "[9, 3, 5, 7]\n"
          ]
        },
        {
          "output_type": "error",
          "ename": "TypeError",
          "evalue": "ignored",
          "traceback": [
            "\u001b[0;31m---------------------------------------------------------------------------\u001b[0m",
            "\u001b[0;31mTypeError\u001b[0m                                 Traceback (most recent call last)",
            "\u001b[0;32m<ipython-input-30-3ac868387834>\u001b[0m in \u001b[0;36m<cell line: 13>\u001b[0;34m()\u001b[0m\n\u001b[1;32m     11\u001b[0m \u001b[0;31m#Example of immutable data type\u001b[0m\u001b[0;34m\u001b[0m\u001b[0;34m\u001b[0m\u001b[0m\n\u001b[1;32m     12\u001b[0m \u001b[0mL3\u001b[0m \u001b[0;34m=\u001b[0m \u001b[0;34m(\u001b[0m\u001b[0;36m1\u001b[0m\u001b[0;34m,\u001b[0m \u001b[0;36m3\u001b[0m\u001b[0;34m,\u001b[0m \u001b[0;36m5\u001b[0m\u001b[0;34m,\u001b[0m \u001b[0;36m7\u001b[0m\u001b[0;34m)\u001b[0m\u001b[0;34m\u001b[0m\u001b[0;34m\u001b[0m\u001b[0m\n\u001b[0;32m---> 13\u001b[0;31m \u001b[0mL3\u001b[0m\u001b[0;34m[\u001b[0m\u001b[0;36m0\u001b[0m\u001b[0;34m]\u001b[0m\u001b[0;34m=\u001b[0m\u001b[0;36m9\u001b[0m\u001b[0;34m\u001b[0m\u001b[0;34m\u001b[0m\u001b[0m\n\u001b[0m\u001b[1;32m     14\u001b[0m \u001b[0mprint\u001b[0m\u001b[0;34m(\u001b[0m\u001b[0mL3\u001b[0m\u001b[0;34m)\u001b[0m\u001b[0;34m\u001b[0m\u001b[0;34m\u001b[0m\u001b[0m\n",
            "\u001b[0;31mTypeError\u001b[0m: 'tuple' object does not support item assignment"
          ]
        }
      ]
    }
  ]
}
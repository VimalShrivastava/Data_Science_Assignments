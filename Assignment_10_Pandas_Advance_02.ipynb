{
  "nbformat": 4,
  "nbformat_minor": 0,
  "metadata": {
    "colab": {
      "provenance": []
    },
    "kernelspec": {
      "name": "python3",
      "display_name": "Python 3"
    },
    "language_info": {
      "name": "python"
    }
  },
  "cells": [
    {
      "cell_type": "code",
      "source": [
        "# Consider following code to answer further questions:\n",
        "\n",
        "import pandas as pd\n",
        "\n",
        "course_name = ['Data Science', 'Machine Learning', 'Big Data', 'Data Engineer']\n",
        "\n",
        "duration = [2,3,6,4]\n",
        "\n",
        "df = pd.DataFrame(data = {'course_name' : course_name, 'duration' : duration})\n",
        "print(df)"
      ],
      "metadata": {
        "colab": {
          "base_uri": "https://localhost:8080/"
        },
        "id": "MHPmDBuNRtcd",
        "outputId": "b1a4d405-5795-4ff4-a3b5-58f3fc434270"
      },
      "execution_count": 3,
      "outputs": [
        {
          "output_type": "stream",
          "name": "stdout",
          "text": [
            "        course_name  duration\n",
            "0      Data Science         2\n",
            "1  Machine Learning         3\n",
            "2          Big Data         6\n",
            "3     Data Engineer         4\n"
          ]
        }
      ]
    },
    {
      "cell_type": "markdown",
      "source": [
        "**Q1.** Write a code to print the data present in the second row of the dataframe, df."
      ],
      "metadata": {
        "id": "9HPRBVEtRThm"
      }
    },
    {
      "cell_type": "code",
      "source": [
        "Second_Row = df.iloc[1]\n",
        "print(Second_Row)"
      ],
      "metadata": {
        "colab": {
          "base_uri": "https://localhost:8080/"
        },
        "id": "DDHnaxW9SPn3",
        "outputId": "e17e8145-09dc-4b59-ee3b-8aa782a5c406"
      },
      "execution_count": 5,
      "outputs": [
        {
          "output_type": "stream",
          "name": "stdout",
          "text": [
            "course_name    Machine Learning\n",
            "duration                      3\n",
            "Name: 1, dtype: object\n"
          ]
        }
      ]
    },
    {
      "cell_type": "markdown",
      "source": [
        "**Q2.** What is the difference between the functions loc and iloc in pandas.DataFrame?"
      ],
      "metadata": {
        "id": "ubRndnljSq-n"
      }
    },
    {
      "cell_type": "markdown",
      "source": [
        "In Pandas, both loc and iloc are used for indexing and selecting data within a DataFrame, but they differ in how they handle selection:\n",
        "\n",
        "**loc:** It is label-based indexing and allows to access rows and columns by their labels (index and column names).\n",
        "\n",
        "**iloc:** It is integer-based indexing and allows to access rows and columns by their integer positions."
      ],
      "metadata": {
        "id": "IiGocyL1S9lo"
      }
    },
    {
      "cell_type": "markdown",
      "source": [
        "**Q3.** Reindex the given dataframe using a variable, reindex = [3,0,1,2] and store it in the variable, new_df\n",
        "then find the output for both new_df.loc[2] and new_df.iloc[2].\n",
        "Did you observe any difference in both the outputs? If so then explain it."
      ],
      "metadata": {
        "id": "0TpaSdkUWCH5"
      }
    },
    {
      "cell_type": "code",
      "source": [
        "# Reindexing the DataFrame\n",
        "reindex = [3, 0, 1, 2]\n",
        "new_df = df.reindex(reindex)\n",
        "print(new_df)"
      ],
      "metadata": {
        "colab": {
          "base_uri": "https://localhost:8080/"
        },
        "id": "6aYsgn6GWUee",
        "outputId": "2aa7bc64-b958-4f03-9c54-6aad5f476e3e"
      },
      "execution_count": 6,
      "outputs": [
        {
          "output_type": "stream",
          "name": "stdout",
          "text": [
            "        course_name  duration\n",
            "3     Data Engineer         4\n",
            "0      Data Science         2\n",
            "1  Machine Learning         3\n",
            "2          Big Data         6\n"
          ]
        }
      ]
    },
    {
      "cell_type": "code",
      "source": [
        "print(\"Output for new_df.loc[2]:\")\n",
        "print(new_df.loc[2])\n",
        "\n",
        "print(\"\\nOutput for new_df.iloc[2]:\")\n",
        "print(new_df.iloc[2])"
      ],
      "metadata": {
        "colab": {
          "base_uri": "https://localhost:8080/"
        },
        "id": "hzOLLoZlWoev",
        "outputId": "7977d809-bbed-4c05-c4d8-f8992f0f153e"
      },
      "execution_count": 7,
      "outputs": [
        {
          "output_type": "stream",
          "name": "stdout",
          "text": [
            "Output for new_df.loc[2]:\n",
            "course_name    Big Data\n",
            "duration              6\n",
            "Name: 2, dtype: object\n",
            "\n",
            "Output for new_df.iloc[2]:\n",
            "course_name    Machine Learning\n",
            "duration                      3\n",
            "Name: 1, dtype: object\n"
          ]
        }
      ]
    },
    {
      "cell_type": "markdown",
      "source": [
        "**new_df.loc[2]:** It accesses the row with the index label '2' after reindexing. The output will display the row that originally had the index label '2' before reindexing.\n",
        "\n",
        "**new_df.iloc[2]:** It accesses the row at the integer position '2' after reindexing. This will retrieve the row that is currently at position '2' in the DataFrame after reindexing."
      ],
      "metadata": {
        "id": "wjou9xYaXAGc"
      }
    },
    {
      "cell_type": "code",
      "source": [
        "# Consider the below code to answer further questions:\n",
        "import pandas as pd\n",
        "import numpy as np\n",
        "\n",
        "columns = ['column_1', 'column_2', 'column_3', 'column_4', 'column_5', 'column_6']\n",
        "\n",
        "indices = [1,2,3,4,5,6]\n",
        "\n",
        "# Creating a dataframe:\n",
        "\n",
        "df1 = pd.DataFrame(np.random.rand(6,6), columns = columns, index = indices)\n",
        "print(df1)"
      ],
      "metadata": {
        "colab": {
          "base_uri": "https://localhost:8080/"
        },
        "id": "oZF6Q3L-XbtS",
        "outputId": "3e407359-0038-4e3a-912e-eb32ed483bd3"
      },
      "execution_count": null,
      "outputs": [
        {
          "output_type": "stream",
          "name": "stdout",
          "text": [
            "   column_1  column_2  column_3  column_4  column_5  column_6\n",
            "1  0.770971  0.881671  0.312284  0.997724  0.037962  0.568631\n",
            "2  0.298896  0.845856  0.500813  0.176603  0.620786  0.999078\n",
            "3  0.416393  0.070364  0.953250  0.370194  0.074629  0.488685\n",
            "4  0.118954  0.785852  0.630982  0.118957  0.239949  0.895997\n",
            "5  0.617664  0.111764  0.254828  0.346964  0.199386  0.739861\n",
            "6  0.575205  0.198962  0.119279  0.812019  0.206595  0.901416\n"
          ]
        }
      ]
    },
    {
      "cell_type": "markdown",
      "source": [
        "**Q4.** Write a code to find the following statistical measurements for the above dataframe df1:\n",
        "\n",
        "(i) mean of each and every column present in the dataframe.\n",
        "\n",
        "(ii) standard deviation of column, 'column_2'."
      ],
      "metadata": {
        "id": "Fc162IAmXyPC"
      }
    },
    {
      "cell_type": "code",
      "source": [
        "# (i) Mean of each column in the DataFrame\n",
        "column_means = df1.mean()\n",
        "print(\"Mean of each column:\")\n",
        "print(column_means)\n",
        "\n",
        "# (ii) Standard deviation of column 'column_2'\n",
        "std_dev_column_2 = df1['column_2'].std()\n",
        "print(\"\\nStandard deviation of 'column_2':\", std_dev_column_2)"
      ],
      "metadata": {
        "colab": {
          "base_uri": "https://localhost:8080/"
        },
        "id": "tVYro3s1X34p",
        "outputId": "b5bc18bc-ad58-49ae-ca90-1066b367d609"
      },
      "execution_count": 10,
      "outputs": [
        {
          "output_type": "stream",
          "name": "stdout",
          "text": [
            "Mean of each column:\n",
            "column_1    0.466347\n",
            "column_2    0.482412\n",
            "column_3    0.461906\n",
            "column_4    0.470410\n",
            "column_5    0.229884\n",
            "column_6    0.765611\n",
            "dtype: float64\n",
            "\n",
            "Standard deviation of 'column_2': 0.3927039290081144\n"
          ]
        }
      ]
    },
    {
      "cell_type": "markdown",
      "source": [
        "**Q5.** Replace the data present in the second row of column, 'column_2' by a string variable then find the\n",
        "mean of column, column_2.\n",
        "\n",
        "If you are getting errors in executing it then explain why.\n",
        "\n",
        "[Hint: To replace the data use df1.loc[] and equate this to string data of your choice.]"
      ],
      "metadata": {
        "id": "fUgKrILHYQow"
      }
    },
    {
      "cell_type": "code",
      "source": [
        "# Replacing the data in the second row of 'column_2' with a string variable\n",
        "df1.loc[2, 'column_2'] = 'string_data'\n",
        "print(df1)"
      ],
      "metadata": {
        "colab": {
          "base_uri": "https://localhost:8080/"
        },
        "id": "lN8B2RvVYX--",
        "outputId": "38c39c56-edec-40e2-d894-14e3c67f2566"
      },
      "execution_count": 12,
      "outputs": [
        {
          "output_type": "stream",
          "name": "stdout",
          "text": [
            "   column_1     column_2  column_3  column_4  column_5  column_6\n",
            "1  0.770971     0.881671  0.312284  0.997724  0.037962  0.568631\n",
            "2  0.298896  string_data  0.500813  0.176603  0.620786  0.999078\n",
            "3  0.416393     0.070364  0.953250  0.370194  0.074629  0.488685\n",
            "4  0.118954     0.785852  0.630982  0.118957  0.239949  0.895997\n",
            "5  0.617664     0.111764  0.254828  0.346964  0.199386  0.739861\n",
            "6  0.575205     0.198962  0.119279  0.812019  0.206595  0.901416\n"
          ]
        }
      ]
    },
    {
      "cell_type": "code",
      "source": [
        "# Finding the mean of 'column_2'\n",
        "try:\n",
        "    column_2_mean = df1['column_2'].mean()\n",
        "    print(\"Mean of 'column_2':\", column_2_mean)\n",
        "\n",
        "except TypeError as e:\n",
        "    print(\"Error occurred:\", e)"
      ],
      "metadata": {
        "colab": {
          "base_uri": "https://localhost:8080/"
        },
        "id": "dtW2xMPBZAxI",
        "outputId": "85908cd7-bfa3-42bc-bf5c-c47a37c30a32"
      },
      "execution_count": 13,
      "outputs": [
        {
          "output_type": "stream",
          "name": "stdout",
          "text": [
            "Error occurred: unsupported operand type(s) for +: 'float' and 'str'\n"
          ]
        }
      ]
    },
    {
      "cell_type": "markdown",
      "source": [
        "**Explanation:**\n",
        "When we attempt to find the mean of a column that has a mixture of numerical and non-numerical (string) data, it results in a TypeError because the mean calculation cannot be performed on non-numeric data."
      ],
      "metadata": {
        "id": "ILOIbZ4IZKjs"
      }
    },
    {
      "cell_type": "markdown",
      "source": [
        "**Q6.** What do you understand about the windows function in pandas and list the types of windows functions?"
      ],
      "metadata": {
        "id": "vnBrh1iCZWqo"
      }
    },
    {
      "cell_type": "markdown",
      "source": [
        "**Ans:**\n",
        "In Pandas, the 'window function' is used for calculating functions over a specified window of data points. It operates on a rolling or expanding window of data within a series or DataFrame.\n",
        "\n",
        "**Types of window functions in Pandas:**\n",
        "\n",
        "**Rolling Window Functions:** These functions compute values over a specified window size by moving the window along the data series. Common rolling window functions include:\n",
        "\n",
        "rolling().mean(): Computes the rolling mean.\n",
        "rolling().sum(): Calculates the rolling sum.\n",
        "rolling().std(): Computes the rolling standard deviation.\n",
        "rolling().min(): Finds the minimum within the rolling window.\n",
        "rolling().max(): Finds the maximum within the rolling window.\n",
        "rolling().quantile(): Computes the quantile over the rolling window.\n",
        "\n",
        "**Expanding Window Functions:** These functions compute values using all data points up to the current point, creating a cumulative result that expands with each new data point. Some examples include:\n",
        "\n",
        "expanding().mean(): Calculates the expanding mean.\n",
        "expanding().sum(): Computes the expanding sum.\n",
        "expanding().std(): Computes the expanding standard deviation.\n",
        "expanding().min(): Finds the minimum within the expanding window.\n",
        "expanding().max(): Finds the maximum within the expanding window.\n",
        "\n",
        "These window functions provide flexibility in analyzing time series or other sequential data in Pandas."
      ],
      "metadata": {
        "id": "4i3maehxZs62"
      }
    },
    {
      "cell_type": "markdown",
      "source": [
        "**Q7.** Write a code to print only the current month and year at the time of answering this question.\n",
        "\n",
        "[Hint: Use pandas.datetime function]"
      ],
      "metadata": {
        "id": "p9RuuZDsavmi"
      }
    },
    {
      "cell_type": "code",
      "source": [
        "# Get current date and time\n",
        "current_date_time = pd.datetime.now()\n",
        "\n",
        "# Extract month and year from the current date\n",
        "current_month = current_date_time.month\n",
        "current_year = current_date_time.year\n",
        "\n",
        "# Print the current month and year\n",
        "print(\"Current month:\", current_month)\n",
        "print(\"Current year:\", current_year)"
      ],
      "metadata": {
        "colab": {
          "base_uri": "https://localhost:8080/"
        },
        "id": "iVfGyck4Zjrx",
        "outputId": "557e11d0-609a-450d-a7ba-cd4ee653201f"
      },
      "execution_count": 14,
      "outputs": [
        {
          "output_type": "stream",
          "name": "stdout",
          "text": [
            "Current month: 1\n",
            "Current year: 2024\n"
          ]
        },
        {
          "output_type": "stream",
          "name": "stderr",
          "text": [
            "<ipython-input-14-049bc88e170c>:2: FutureWarning: The pandas.datetime class is deprecated and will be removed from pandas in a future version. Import from datetime module instead.\n",
            "  current_date_time = pd.datetime.now()\n"
          ]
        }
      ]
    },
    {
      "cell_type": "markdown",
      "source": [
        "**Q8.** Write a Python program that takes in two dates as input (in the format YYYY-MM-DD) and\n",
        "calculates the difference between them in days, hours, and minutes using Pandas time delta. The\n",
        "program should prompt the user to enter the dates and display the result."
      ],
      "metadata": {
        "id": "D8DQcoEQbLDJ"
      }
    },
    {
      "cell_type": "code",
      "source": [
        "# Function to calculate the difference between two dates\n",
        "\n",
        "def date_difference():\n",
        "    # Prompt user to input the dates in YYYY-MM-DD format\n",
        "    date1 = input(\"Enter the first date (YYYY-MM-DD): \")\n",
        "    date2 = input(\"Enter the second date (YYYY-MM-DD): \")\n",
        "\n",
        "    # Convert input strings to pandas datetime objects\n",
        "    date1 = pd.to_datetime(date1)\n",
        "    date2 = pd.to_datetime(date2)\n",
        "\n",
        "    # Calculate the difference between the dates\n",
        "    time_diff = date2 - date1\n",
        "\n",
        "    # Display the difference in days, hours, and minutes\n",
        "    print(\"\\nDifference between the dates:\")\n",
        "    print(\"Days:\", time_diff.days)\n",
        "    print(\"Hours:\", time_diff.seconds // 3600)\n",
        "    print(\"Minutes:\", (time_diff.seconds // 60) % 60)\n",
        "\n",
        "# Calculate and display the difference between dates\n",
        "date_difference()"
      ],
      "metadata": {
        "colab": {
          "base_uri": "https://localhost:8080/"
        },
        "id": "_pVzplrDbRmF",
        "outputId": "edfcb799-b2c4-4c84-d110-3fdfde4bb932"
      },
      "execution_count": 17,
      "outputs": [
        {
          "output_type": "stream",
          "name": "stdout",
          "text": [
            "Enter the first date (YYYY-MM-DD): 2023-12-01\n",
            "Enter the second date (YYYY-MM-DD): 2024-01-06\n",
            "\n",
            "Difference between the dates:\n",
            "Days: 36\n",
            "Hours: 0\n",
            "Minutes: 0\n"
          ]
        }
      ]
    },
    {
      "cell_type": "markdown",
      "source": [
        "**Q9.** Write a Python program that reads a CSV file containing categorical data and converts a specified column to a categorical data type. The program should prompt the user to enter the file path, column name, and category order, and then display the sorted data."
      ],
      "metadata": {
        "id": "74pYbUwOcJCJ"
      }
    },
    {
      "cell_type": "code",
      "source": [
        "# Generating categorical data for demonstration\n",
        "data = {\n",
        "    'Fruit': np.random.choice(['Apple', 'Orange', 'Banana'], size=10)\n",
        "}\n",
        "\n",
        "# Create a DataFrame and save it to a CSV file\n",
        "df = pd.DataFrame(data)\n",
        "df.to_csv('categorical_data.csv', index=False)"
      ],
      "metadata": {
        "id": "Zv_MvkbWkxyI"
      },
      "execution_count": 30,
      "outputs": []
    },
    {
      "cell_type": "code",
      "source": [
        "# Read the CSV file containing categorical data\n",
        "file_path = input(\"Enter the file path (CSV): \")\n",
        "df = pd.read_csv(file_path)\n",
        "\n",
        "# Display original data\n",
        "print(\"\\nOriginal data:\")\n",
        "print(df)\n",
        "\n",
        "# Prompt user to enter column name and category order\n",
        "column_name = input(\"Enter the column name to convert to categorical: \")\n",
        "category_order = input(\"Enter the category order (comma-separated): \").split(',')\n",
        "\n",
        "# Convert specified column to categorical with specified category order\n",
        "df[column_name] = pd.Categorical(df[column_name], categories=category_order, ordered=True)\n",
        "\n",
        "# Display sorted data based on the categorical column\n",
        "print(\"\\nSorted data based on '{}' column:\".format(column_name))\n",
        "print(df.sort_values(by=column_name))"
      ],
      "metadata": {
        "colab": {
          "base_uri": "https://localhost:8080/"
        },
        "id": "hdrwHS8XfwHc",
        "outputId": "96f594dd-e14f-425d-a271-819c8ce8d2e0"
      },
      "execution_count": 33,
      "outputs": [
        {
          "output_type": "stream",
          "name": "stdout",
          "text": [
            "Enter the file path (CSV): /content/categorical_data.csv\n",
            "\n",
            "Original data:\n",
            "    Fruit\n",
            "0  Orange\n",
            "1   Apple\n",
            "2  Orange\n",
            "3  Orange\n",
            "4   Apple\n",
            "5  Orange\n",
            "6  Orange\n",
            "7  Banana\n",
            "8  Banana\n",
            "9   Apple\n",
            "Enter the column name to convert to categorical: Fruit\n",
            "Enter the category order (comma-separated): Apple\n",
            "\n",
            "Sorted data based on 'Fruit' column:\n",
            "   Fruit\n",
            "1  Apple\n",
            "4  Apple\n",
            "9  Apple\n",
            "0    NaN\n",
            "2    NaN\n",
            "3    NaN\n",
            "5    NaN\n",
            "6    NaN\n",
            "7    NaN\n",
            "8    NaN\n"
          ]
        }
      ]
    },
    {
      "cell_type": "markdown",
      "source": [
        "**Q10**. Write a Python program that reads a CSV file containing sales data for different products and visualizes the data using a stacked bar chart to show the sales of each product category over time. The program should prompt the user to enter the file path and display the chart."
      ],
      "metadata": {
        "id": "Oh_CBWAWh6Im"
      }
    },
    {
      "cell_type": "code",
      "source": [
        "# Generating sales data for demonstration\n",
        "data = {\n",
        "    'Date': pd.date_range(start='2023-01-01', periods=10),\n",
        "    'Product_A': np.random.randint(10, 100, size=10),\n",
        "    'Product_B': np.random.randint(10, 100, size=10),\n",
        "    'Product_C': np.random.randint(10, 100, size=10)\n",
        "}\n",
        "\n",
        "# Create a DataFrame and save it to a CSV file\n",
        "df = pd.DataFrame(data)\n",
        "df.to_csv('sales_data.csv', index=False)"
      ],
      "metadata": {
        "id": "eqB4F3i8ie24"
      },
      "execution_count": 27,
      "outputs": []
    },
    {
      "cell_type": "code",
      "source": [
        "# Read the CSV file containing sales data\n",
        "file_path = input(\"Enter the file path (CSV): \")\n",
        "df = pd.read_csv(file_path)\n",
        "\n",
        "# Convert 'Date' column to datetime format\n",
        "df['Date'] = pd.to_datetime(df['Date'])\n",
        "\n",
        "# Plotting the stacked bar chart\n",
        "import matplotlib.pyplot as plt\n",
        "\n",
        "plt.figure(figsize=(10, 6))\n",
        "plt.bar(df['Date'], df['Product_A'], label='Product A', width=4)\n",
        "plt.bar(df['Date'], df['Product_B'], label='Product B', width=4, bottom=df['Product_A'])\n",
        "plt.bar(df['Date'], df['Product_C'], label='Product C', width=4, bottom=df['Product_A'] + df['Product_B'])\n",
        "\n",
        "# Setting labels and title\n",
        "plt.xlabel('Date')\n",
        "plt.ylabel('Sales')\n",
        "plt.title('Sales of Products Over Time')\n",
        "plt.legend()\n",
        "plt.xticks(rotation=45)\n",
        "plt.tight_layout()\n",
        "\n",
        "# Show the stacked bar chart\n",
        "plt.show()"
      ],
      "metadata": {
        "colab": {
          "base_uri": "https://localhost:8080/",
          "height": 625
        },
        "id": "OQhrNY2DjHv_",
        "outputId": "651a4812-f1d5-49c0-93fa-7cf32380db4d"
      },
      "execution_count": 29,
      "outputs": [
        {
          "name": "stdout",
          "output_type": "stream",
          "text": [
            "Enter the file path (CSV): /content/sales_data.csv\n"
          ]
        },
        {
          "output_type": "display_data",
          "data": {
            "text/plain": [
              "<Figure size 1000x600 with 1 Axes>"
            ],
            "image/png": "[encoded data removed]"
          },
          "metadata": {}
        }
      ]
    },
    {
      "cell_type": "markdown",
      "source": [
        "**Q11.** You are given a CSV file containing student data that includes the student ID and their test score. Write a Python program that reads the CSV file, calculate the mean, median and mode of the test scores and displays the results in a table."
      ],
      "metadata": {
        "id": "OHnCuRozl0lD"
      }
    },
    {
      "cell_type": "code",
      "source": [
        "# Generating synthetic student data for demonstration\n",
        "data = {\n",
        "    'Student ID': np.arange(1, 11),\n",
        "    'Test Score': np.random.randint(75, 100, size=10)\n",
        "}\n",
        "\n",
        "# Create a DataFrame and save it to a CSV file (for demonstration)\n",
        "df = pd.DataFrame(data)\n",
        "df.to_csv('student_scores.csv', index=False)"
      ],
      "metadata": {
        "id": "0SSPNOrfmvc2"
      },
      "execution_count": 35,
      "outputs": []
    },
    {
      "cell_type": "code",
      "source": [
        "# Read the CSV file containing student data\n",
        "file_path = input(\"Enter the file path (CSV): \")\n",
        "df = pd.read_csv(file_path)\n",
        "\n",
        "# Calculate mean, median, and mode of the test scores\n",
        "mean_score = df['Test Score'].mean()\n",
        "median_score = df['Test Score'].median()\n",
        "mode_score = df['Test Score'].mode()[0]\n",
        "\n",
        "# Create a DataFrame to display the results\n",
        "results_df = pd.DataFrame({\n",
        "    'Statistic': ['Mean', 'Median', 'Mode'],\n",
        "    'Value': [mean_score, median_score, mode_score]\n",
        "})\n",
        "\n",
        "# Display the results\n",
        "print(\"\\n\")\n",
        "print(results_df)"
      ],
      "metadata": {
        "colab": {
          "base_uri": "https://localhost:8080/"
        },
        "id": "D2xuzVpxm5dL",
        "outputId": "ccd3d7f4-0c98-4038-ea61-9958c7d8b583"
      },
      "execution_count": 39,
      "outputs": [
        {
          "output_type": "stream",
          "name": "stdout",
          "text": [
            "Enter the file path (CSV): /content/student_scores.csv\n",
            "\n",
            "\n",
            "  Statistic  Value\n",
            "0      Mean   90.0\n",
            "1    Median   91.0\n",
            "2      Mode   91.0\n"
          ]
        }
      ]
    }
  ]
}
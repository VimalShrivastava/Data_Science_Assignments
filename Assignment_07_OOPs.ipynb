{
  "nbformat": 4,
  "nbformat_minor": 0,
  "metadata": {
    "colab": {
      "provenance": []
    },
    "kernelspec": {
      "name": "python3",
      "display_name": "Python 3"
    },
    "language_info": {
      "name": "python"
    }
  },
  "cells": [
    {
      "cell_type": "markdown",
      "source": [
        "**Q1. What is Abstraction in OOps? Explain with an example.**\n",
        "\n",
        "Ans: Abstraction involves representing complex real-world entities as simplified models within the programming context. It focuses on capturing only the essential features and behaviors while hiding unnecessary details."
      ],
      "metadata": {
        "id": "OBjH04eBXvE5"
      }
    },
    {
      "cell_type": "code",
      "source": [
        "# Example of Abstraction\n",
        "\n",
        "import abc\n",
        "\n",
        "class Course:\n",
        "\n",
        "    @abc.abstractmethod\n",
        "    def student_details(self):\n",
        "        pass\n",
        "\n",
        "    @abc.abstractmethod\n",
        "    def course_details(self):\n",
        "        pass"
      ],
      "metadata": {
        "id": "fT8soTrNu1xT"
      },
      "execution_count": 4,
      "outputs": []
    },
    {
      "cell_type": "code",
      "source": [
        "class ETC(Course):\n",
        "\n",
        "    def student_details(self):\n",
        "        print(\"These are the students of ETC\")\n",
        "\n",
        "    def course_details(self):\n",
        "        print(\"these are the courses of ETC\")"
      ],
      "metadata": {
        "id": "D7PS5-BIvyIn"
      },
      "execution_count": 5,
      "outputs": []
    },
    {
      "cell_type": "code",
      "source": [
        "class CS(Course):\n",
        "\n",
        "    def student_details(self):\n",
        "        print(\"These are the students of CS\")\n",
        "\n",
        "    def course_details(self):\n",
        "        print(\"These are the courses of CS\")"
      ],
      "metadata": {
        "id": "o7ir0gGuwkn_"
      },
      "execution_count": 6,
      "outputs": []
    },
    {
      "cell_type": "code",
      "source": [
        "etc = ETC()\n",
        "\n",
        "etc.student_details()\n",
        "etc.course_details()"
      ],
      "metadata": {
        "colab": {
          "base_uri": "https://localhost:8080/"
        },
        "id": "fFdilr7fwoRQ",
        "outputId": "be3fc3bb-903c-4551-90ca-f076e5f07067"
      },
      "execution_count": 7,
      "outputs": [
        {
          "output_type": "stream",
          "name": "stdout",
          "text": [
            "These are the students of ETC\n",
            "these are the courses of ETC\n"
          ]
        }
      ]
    },
    {
      "cell_type": "code",
      "source": [
        "cs = CS()\n",
        "\n",
        "cs.student_details()\n",
        "cs.course_details()"
      ],
      "metadata": {
        "colab": {
          "base_uri": "https://localhost:8080/"
        },
        "id": "1aHM8JEDxSeR",
        "outputId": "b6827f21-5569-4365-e5ff-2bfbd17986d0"
      },
      "execution_count": 8,
      "outputs": [
        {
          "output_type": "stream",
          "name": "stdout",
          "text": [
            "These are the students of CS\n",
            "These are the courses of CS\n"
          ]
        }
      ]
    },
    {
      "cell_type": "markdown",
      "source": [
        "**Q2. Differentiate between Abstraction and Encapsulation. Explain with an example.**\n",
        "\n",
        "Ans: Abstraction shows only useful data by providing the most necessary details, whereas Encapsulation wraps code and data for necessary information."
      ],
      "metadata": {
        "id": "kf2kIsxVx0NP"
      }
    },
    {
      "cell_type": "code",
      "source": [
        "# Example of Abstraction in OOPs\n",
        "\n",
        "import abc\n",
        "\n",
        "class Course:\n",
        "\n",
        "    @abc.abstractmethod\n",
        "    def student_details(self):\n",
        "        pass\n",
        "\n",
        "class ETC(Course):\n",
        "\n",
        "    def student_details(self):\n",
        "        print(\"These are the students of ETC\")\n",
        "\n",
        "class CS(Course):\n",
        "\n",
        "    def student_details(self):\n",
        "        print(\"These are the students of CS\")\n",
        "\n",
        "etc = ETC()\n",
        "etc.student_details()\n",
        "\n",
        "cs = CS()\n",
        "cs.student_details()"
      ],
      "metadata": {
        "colab": {
          "base_uri": "https://localhost:8080/"
        },
        "id": "sIv8Fhbp9Sqo",
        "outputId": "5ccef2ce-0b86-443c-db06-ba41ea2ffcc3"
      },
      "execution_count": 1,
      "outputs": [
        {
          "output_type": "stream",
          "name": "stdout",
          "text": [
            "These are the students of ETC\n",
            "These are the students of CS\n"
          ]
        }
      ]
    },
    {
      "cell_type": "code",
      "source": [
        "# Example of Encapsulation\n",
        "\n",
        "class BankAccount:\n",
        "    def __init__(self, account_number, balance):\n",
        "        self._account_number = account_number\n",
        "        self._balance = balance\n",
        "\n",
        "    def get_account_number(self):\n",
        "        return self._account_number\n",
        "\n",
        "    def get_balance(self):\n",
        "        return self._balance\n",
        "\n",
        "    def deposit(self, amount):\n",
        "        self._balance += amount\n",
        "\n",
        "    def withdraw(self, amount):\n",
        "        if amount <= self._balance:\n",
        "            self._balance -= amount\n",
        "        else:\n",
        "            print(\"Insufficient funds!\")\n",
        "\n",
        "\n",
        "account = BankAccount(\"987654321\", 1000)\n",
        "print(account.get_account_number())\n",
        "print(account.get_balance())\n",
        "account.deposit(500)\n",
        "print(account.get_balance())\n",
        "account.withdraw(200)\n",
        "print(account.get_balance())"
      ],
      "metadata": {
        "colab": {
          "base_uri": "https://localhost:8080/"
        },
        "id": "0RxA7Dvp-G5c",
        "outputId": "f1fb3fd8-d787-4a51-e12e-47fea2a09cb7"
      },
      "execution_count": 2,
      "outputs": [
        {
          "output_type": "stream",
          "name": "stdout",
          "text": [
            "987654321\n",
            "1000\n",
            "1500\n",
            "1300\n"
          ]
        }
      ]
    },
    {
      "cell_type": "markdown",
      "source": [
        "**Q3. What is abc module in python? Why is it used?**\n",
        "\n",
        "Ans: In Python, the abc module stands for \"Abstract Base Classes.\" It provides infrastructure for defining abstract base classes (ABCs) in Python. An abstract base class is a class that cannot be instantiated directly and serves as a blueprint for other classes to inherit from.\n",
        "\n",
        "The abc module is used to create abstract base classes and define abstract methods."
      ],
      "metadata": {
        "id": "Qfohg4qXy8vb"
      }
    },
    {
      "cell_type": "markdown",
      "source": [
        "**Q4. How can we achieve data abstraction?**\n",
        "\n",
        "Ans: The data abstraction can be achieved through the use of abstract class."
      ],
      "metadata": {
        "id": "uWR1csH1zNuz"
      }
    },
    {
      "cell_type": "code",
      "source": [
        "#Example of data abstraction\n",
        "\n",
        "import abc\n",
        "\n",
        "class Animal():\n",
        "\n",
        "    @abc.abstractmethod\n",
        "    def sound(self):\n",
        "        pass\n",
        "\n",
        "    @abc.abstractmethod\n",
        "    def eat(self):\n",
        "        pass\n",
        "\n",
        "class Dog(Animal):\n",
        "    def sound(self):\n",
        "        return \"Woof!\"\n",
        "\n",
        "    def eat(self):\n",
        "        return \"Dog eats bones.\"\n",
        "\n",
        "class Cat(Animal):\n",
        "    def sound(self):\n",
        "        return \"Meow!\"\n",
        "\n",
        "    def eat(self):\n",
        "        return \"Cat eats fish.\"\n",
        "\n",
        "dog = Dog()\n",
        "cat = Cat()\n",
        "\n",
        "print(dog.sound())\n",
        "print(cat.sound())\n",
        "print(dog.eat())\n",
        "print(cat.eat())"
      ],
      "metadata": {
        "colab": {
          "base_uri": "https://localhost:8080/"
        },
        "id": "17R0xNlGzqoS",
        "outputId": "a444576f-fa32-4bea-8401-282d702b1602"
      },
      "execution_count": 3,
      "outputs": [
        {
          "output_type": "stream",
          "name": "stdout",
          "text": [
            "Woof!\n",
            "Meow!\n",
            "Dog eats bones.\n",
            "Cat eats fish.\n"
          ]
        }
      ]
    },
    {
      "cell_type": "markdown",
      "source": [
        "**Q5. Can we create an instance of an abstract class? Explain your answer.**\n",
        "\n",
        "Ans: No, we cannot create an instance of an abstract class in Python. Abstract classes are meant to serve as blueprints or templates for other classes to inherit from, but they cannot be instantiated directly."
      ],
      "metadata": {
        "id": "YqlVCvJlzc71"
      }
    },
    {
      "cell_type": "code",
      "source": [
        "#Example\n",
        "\n",
        "from abc import ABC, abstractmethod\n",
        "\n",
        "class AbstractClass(ABC):\n",
        "    @abstractmethod\n",
        "    def abstract_method(self):\n",
        "        pass\n",
        "\n",
        "# Trying to create an instance of the abstract class\n",
        "obj = AbstractClass()"
      ],
      "metadata": {
        "colab": {
          "base_uri": "https://localhost:8080/",
          "height": 206
        },
        "id": "LThyY4KX02Fl",
        "outputId": "3a97718c-6e47-4259-c136-eb4a88ab95b0"
      },
      "execution_count": 18,
      "outputs": [
        {
          "output_type": "error",
          "ename": "TypeError",
          "evalue": "ignored",
          "traceback": [
            "\u001b[0;31m---------------------------------------------------------------------------\u001b[0m",
            "\u001b[0;31mTypeError\u001b[0m                                 Traceback (most recent call last)",
            "\u001b[0;32m<ipython-input-18-f41364fdf96c>\u001b[0m in \u001b[0;36m<cell line: 9>\u001b[0;34m()\u001b[0m\n\u001b[1;32m      7\u001b[0m \u001b[0;34m\u001b[0m\u001b[0m\n\u001b[1;32m      8\u001b[0m \u001b[0;31m# Trying to create an instance of the abstract class\u001b[0m\u001b[0;34m\u001b[0m\u001b[0;34m\u001b[0m\u001b[0m\n\u001b[0;32m----> 9\u001b[0;31m \u001b[0mobj\u001b[0m \u001b[0;34m=\u001b[0m \u001b[0mAbstractClass\u001b[0m\u001b[0;34m(\u001b[0m\u001b[0;34m)\u001b[0m\u001b[0;34m\u001b[0m\u001b[0;34m\u001b[0m\u001b[0m\n\u001b[0m",
            "\u001b[0;31mTypeError\u001b[0m: Can't instantiate abstract class AbstractClass with abstract method abstract_method"
          ]
        }
      ]
    }
  ]
}

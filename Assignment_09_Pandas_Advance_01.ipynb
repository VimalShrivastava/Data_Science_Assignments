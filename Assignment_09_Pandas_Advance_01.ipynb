{
  "nbformat": 4,
  "nbformat_minor": 0,
  "metadata": {
    "colab": {
      "provenance": []
    },
    "kernelspec": {
      "name": "python3",
      "display_name": "Python 3"
    },
    "language_info": {
      "name": "python"
    }
  },
  "cells": [
    {
      "cell_type": "markdown",
      "source": [
        "Q1. List any five functions of the pandas library with execution.\n",
        "Ans:\n",
        "1. read_csv(): Reads a CSV file into a DataFrame.\n",
        "\n",
        "2. head(): Displays the first few rows of a DataFrame (default is 5 rows).\n",
        "\n",
        "3. info(): Provides a concise summary of the DataFrame including column data types and non-null counts.\n",
        "\n",
        "4. describe(): Generates descriptive statistics of numerical columns in the DataFrame.\n",
        "\n",
        "5. groupby(): Groups the DataFrame by a specified column and allows performing operations on these groups."
      ],
      "metadata": {
        "id": "eDxL2tGWx2XS"
      }
    },
    {
      "cell_type": "code",
      "source": [
        "import pandas as pd\n",
        "\n",
        "# Reading a CSV file into a DataFrame\n",
        "data = pd.read_csv('Pandas_Example.csv', index_col=0)\n",
        "\n",
        "# Displaying the first 5 rows of the DataFrame\n",
        "print(\"Example of head() function:\")\n",
        "print(data.head())\n",
        "print()\n",
        "\n",
        "# Getting information about the DataFrame\n",
        "print(\"Example of info() function:\")\n",
        "print(data.info())\n",
        "print()\n",
        "\n",
        "# Generating descriptive statistics of the DataFrame\n",
        "print(\"Example of describe() function:\")\n",
        "print(data.describe())\n",
        "print()\n",
        "\n",
        "# Grouping the DataFrame by a column and calculating mean for each group\n",
        "print(\"Example of groupby() function:\")\n",
        "grouped_data = data.groupby('Apples').mean()\n",
        "print(grouped_data)\n",
        "print()"
      ],
      "metadata": {
        "id": "AC6pvBtJx40h",
        "colab": {
          "base_uri": "https://localhost:8080/"
        },
        "outputId": "9534c225-1d89-4c5e-a4eb-c81f792347ed"
      },
      "execution_count": 7,
      "outputs": [
        {
          "output_type": "stream",
          "name": "stdout",
          "text": [
            "Example of head() function:\n",
            "        Apples  Oranges\n",
            "June         3        0\n",
            "Robert       2        3\n",
            "Lily         0        7\n",
            "David        1        2\n",
            "\n",
            "Example of info() function:\n",
            "<class 'pandas.core.frame.DataFrame'>\n",
            "Index: 4 entries, June to David\n",
            "Data columns (total 2 columns):\n",
            " #   Column   Non-Null Count  Dtype\n",
            "---  ------   --------------  -----\n",
            " 0   Apples   4 non-null      int64\n",
            " 1   Oranges  4 non-null      int64\n",
            "dtypes: int64(2)\n",
            "memory usage: 96.0+ bytes\n",
            "None\n",
            "\n",
            "Example of describe() function:\n",
            "         Apples  Oranges\n",
            "count  4.000000  4.00000\n",
            "mean   1.500000  3.00000\n",
            "std    1.290994  2.94392\n",
            "min    0.000000  0.00000\n",
            "25%    0.750000  1.50000\n",
            "50%    1.500000  2.50000\n",
            "75%    2.250000  4.00000\n",
            "max    3.000000  7.00000\n",
            "\n",
            "Example of groupby() function:\n",
            "        Oranges\n",
            "Apples         \n",
            "0           7.0\n",
            "1           2.0\n",
            "2           3.0\n",
            "3           0.0\n",
            "\n"
          ]
        }
      ]
    },
    {
      "cell_type": "markdown",
      "source": [
        "Q2. Given a Pandas DataFrame df with columns 'A', 'B', and 'C', write a Python function to re-index the\n",
        "DataFrame with a new index that starts from 1 and increments by 2 for each row."
      ],
      "metadata": {
        "id": "d_ILLGib1OFa"
      }
    },
    {
      "cell_type": "code",
      "source": [
        "# Creating a DataFrame\n",
        "data = {\n",
        "    'A': [10, 20, 30],\n",
        "    'B': [40, 50, 60],\n",
        "    'C': [70, 80, 90]\n",
        "}\n",
        "\n",
        "df = pd.DataFrame(data)\n",
        "print(df)"
      ],
      "metadata": {
        "colab": {
          "base_uri": "https://localhost:8080/"
        },
        "id": "GQ8TYESO17Mq",
        "outputId": "ab7a86f4-876d-4f26-e38b-2211ae894687"
      },
      "execution_count": 8,
      "outputs": [
        {
          "output_type": "stream",
          "name": "stdout",
          "text": [
            "    A   B   C\n",
            "0  10  40  70\n",
            "1  20  50  80\n",
            "2  30  60  90\n"
          ]
        }
      ]
    },
    {
      "cell_type": "code",
      "source": [
        "def reindex_with_increment(df):\n",
        "\n",
        "    # Creating a new index starting from 1 and incrementing by 2 for each row\n",
        "    new_index = pd.Series(range(1, len(df) * 2, 2))\n",
        "\n",
        "    # Assigning the new index to the DataFrame\n",
        "    df_reindexed = df.set_index(new_index)\n",
        "\n",
        "    return df_reindexed\n",
        "\n",
        "df_reindexed = reindex_with_increment(df)\n",
        "print(df_reindexed)"
      ],
      "metadata": {
        "colab": {
          "base_uri": "https://localhost:8080/"
        },
        "id": "llr7gCJy1RQC",
        "outputId": "1ca13f24-68b9-4551-df91-004b409b9d78"
      },
      "execution_count": 9,
      "outputs": [
        {
          "output_type": "stream",
          "name": "stdout",
          "text": [
            "    A   B   C\n",
            "1  10  40  70\n",
            "3  20  50  80\n",
            "5  30  60  90\n"
          ]
        }
      ]
    },
    {
      "cell_type": "markdown",
      "source": [
        "Q3. You have a Pandas DataFrame df with a column named 'Values'. Write a Python function that\n",
        "iterates over the DataFrame and calculates the sum of the first three values in the 'Values' column. The\n",
        "function should print the sum to the console."
      ],
      "metadata": {
        "id": "oLPVLo8_4Oiu"
      }
    },
    {
      "cell_type": "code",
      "source": [
        "# Example DataFrame\n",
        "data = {\n",
        "    'Values': [10, 20, 30, 40, 50]\n",
        "}\n",
        "\n",
        "df = pd.DataFrame(data)\n",
        "print(df)"
      ],
      "metadata": {
        "colab": {
          "base_uri": "https://localhost:8080/"
        },
        "id": "A9s_K1NL4RKL",
        "outputId": "f16e5e38-6015-4568-b8bc-1d934d92fea1"
      },
      "execution_count": 14,
      "outputs": [
        {
          "output_type": "stream",
          "name": "stdout",
          "text": [
            "   Values\n",
            "0      10\n",
            "1      20\n",
            "2      30\n",
            "3      40\n",
            "4      50\n"
          ]
        }
      ]
    },
    {
      "cell_type": "code",
      "source": [
        "def calculate_sum_first_three(df):\n",
        "\n",
        "    # Accessing the 'Values' column and calculating the sum of the first three values\n",
        "    sum_first_three = df['Values'].iloc[:3].sum()\n",
        "    print(\"Sum of the first three values:\", sum_first_three)\n",
        "\n",
        "# Calling the function with the DataFrame\n",
        "sum = calculate_sum_first_three(df)"
      ],
      "metadata": {
        "colab": {
          "base_uri": "https://localhost:8080/"
        },
        "id": "-5779bEU4qPy",
        "outputId": "858fa4e8-982a-4583-b9fa-35a9adcfae5f"
      },
      "execution_count": 15,
      "outputs": [
        {
          "output_type": "stream",
          "name": "stdout",
          "text": [
            "Sum of the first three values: 60\n"
          ]
        }
      ]
    },
    {
      "cell_type": "markdown",
      "source": [
        "Q4. Given a Pandas DataFrame df with a column 'Text', write a Python function to create a new column\n",
        "'Word_Count' that contains the number of words in each row of the 'Text' column."
      ],
      "metadata": {
        "id": "LTEFwiZD48mz"
      }
    },
    {
      "cell_type": "code",
      "source": [
        "# Example DataFrame\n",
        "data = {\n",
        "    'Text': [\n",
        "        'This is a sample sentence.',\n",
        "        'Another sentence here.',\n",
        "        'A short text.'\n",
        "    ]\n",
        "}\n",
        "\n",
        "df = pd.DataFrame(data)\n",
        "print(df)"
      ],
      "metadata": {
        "colab": {
          "base_uri": "https://localhost:8080/"
        },
        "id": "w8bDYlpE5TAV",
        "outputId": "1a73c313-98f0-46f4-a2d2-bab0db9df8b1"
      },
      "execution_count": 16,
      "outputs": [
        {
          "output_type": "stream",
          "name": "stdout",
          "text": [
            "                         Text\n",
            "0  This is a sample sentence.\n",
            "1      Another sentence here.\n",
            "2               A short text.\n"
          ]
        }
      ]
    },
    {
      "cell_type": "code",
      "source": [
        "def count_words(df):\n",
        "\n",
        "    # Counting the number of words in each row of the 'Text' column\n",
        "    df['Word_Count'] = df['Text'].apply(lambda x: len(str(x).split()))\n",
        "    return df\n",
        "\n",
        "# Calling the function with the DataFrame\n",
        "df = count_words(df)\n",
        "print(df)"
      ],
      "metadata": {
        "colab": {
          "base_uri": "https://localhost:8080/"
        },
        "id": "DLXuGRWv5jz3",
        "outputId": "2f68307e-2cc9-47c3-b6aa-559d0c96a622"
      },
      "execution_count": 17,
      "outputs": [
        {
          "output_type": "stream",
          "name": "stdout",
          "text": [
            "                         Text  Word_Count\n",
            "0  This is a sample sentence.           5\n",
            "1      Another sentence here.           3\n",
            "2               A short text.           3\n"
          ]
        }
      ]
    },
    {
      "cell_type": "markdown",
      "source": [
        "Q5. How are DataFrame.size() and DataFrame.shape() different?"
      ],
      "metadata": {
        "id": "C1eVhRjP53PV"
      }
    },
    {
      "cell_type": "markdown",
      "source": [
        "Ans:\n",
        "DataFrame.size: This attribute returns the total number of elements in the DataFrame, which is calculated by multiplying the number of rows by the number of columns. It gives the total count of cells or values present in the DataFrame.\n",
        "\n",
        "DataFrame.shape: This attribute returns a tuple representing the dimensions of the DataFrame. It provides information about the number of rows and columns in the DataFrame as (rows, columns)."
      ],
      "metadata": {
        "id": "4BsjI6tVBN11"
      }
    },
    {
      "cell_type": "code",
      "source": [
        "## Example\n",
        "data = {'A': [1, 2, 3], 'B': [4, 5, 6]}\n",
        "df = pd.DataFrame(data)\n",
        "print(df)\n",
        "print()\n",
        "\n",
        "# Getting the size of the DataFrame\n",
        "size = df.size\n",
        "print(\"Size of DataFrame:\", size)\n",
        "print()\n",
        "\n",
        "# Getting the shape of the DataFrame\n",
        "shape = df.shape\n",
        "print(\"Shape of DataFrame:\", shape)"
      ],
      "metadata": {
        "colab": {
          "base_uri": "https://localhost:8080/"
        },
        "id": "HXcPt5uO6Czh",
        "outputId": "da4a5cef-5c5a-4242-b05e-2ea2a31f659e"
      },
      "execution_count": 20,
      "outputs": [
        {
          "output_type": "stream",
          "name": "stdout",
          "text": [
            "   A  B\n",
            "0  1  4\n",
            "1  2  5\n",
            "2  3  6\n",
            "\n",
            "Size of DataFrame: 6\n",
            "\n",
            "Shape of DataFrame: (3, 2)\n"
          ]
        }
      ]
    },
    {
      "cell_type": "markdown",
      "source": [
        "Q6. Which function of pandas do we use to read an excel file?"
      ],
      "metadata": {
        "id": "LZ7sldToBy2b"
      }
    },
    {
      "cell_type": "code",
      "source": [
        "## In Pandas, the function used to read an Excel file is pd.read_excel().\n",
        "\n",
        "# Reading an Excel file into a DataFrame\n",
        "df = pd.read_excel('Pandas_Example.xlsx', index_col=0)\n",
        "print(df)"
      ],
      "metadata": {
        "colab": {
          "base_uri": "https://localhost:8080/"
        },
        "id": "2jfmQ6frB2JL",
        "outputId": "52f785bd-9373-4b0a-d1a2-8607bbeef34b"
      },
      "execution_count": 23,
      "outputs": [
        {
          "output_type": "stream",
          "name": "stdout",
          "text": [
            "        Apples  Oranges\n",
            "June         3        0\n",
            "Robert       2        3\n",
            "Lily         0        7\n",
            "David        1        2\n"
          ]
        }
      ]
    },
    {
      "cell_type": "markdown",
      "source": [
        "Q7. You have a Pandas DataFrame df that contains a column named 'Email' that contains email\n",
        "addresses in the format 'username@domain.com'. Write a Python function that creates a new column\n",
        "'Username' in df that contains only the username part of each email address.\n",
        "\n",
        "The username is the part of the email address that appears before the '@' symbol. For example, if the\n",
        "email address is 'john.doe@example.com', the 'Username' column should contain 'john.doe'. Your\n",
        "function should extract the username from each email address and store it in the new 'Username'\n",
        "column."
      ],
      "metadata": {
        "id": "Na8qH9JlCZ7X"
      }
    },
    {
      "cell_type": "code",
      "source": [
        "data = {\n",
        "    'Email': [\n",
        "        'abc.123@example.com',\n",
        "        'xyz.456@example.com',\n",
        "        'pqr.789@example.com'\n",
        "    ]\n",
        "}\n",
        "\n",
        "df = pd.DataFrame(data)\n",
        "print(df)"
      ],
      "metadata": {
        "colab": {
          "base_uri": "https://localhost:8080/"
        },
        "id": "2xcPK2E6Ccz8",
        "outputId": "2f1609d8-9af0-4489-a2ae-3e3fd485003b"
      },
      "execution_count": 25,
      "outputs": [
        {
          "output_type": "stream",
          "name": "stdout",
          "text": [
            "                 Email\n",
            "0  abc.123@example.com\n",
            "1  xyz.456@example.com\n",
            "2  pqr.789@example.com\n"
          ]
        }
      ]
    },
    {
      "cell_type": "code",
      "source": [
        "def extract_username(email):\n",
        "\n",
        "    # Splitting the email address by '@' and extracting the username\n",
        "    return email.split('@')[0]\n",
        "\n",
        "def add_username_column(df):\n",
        "\n",
        "    # Creating a new 'Username' column by applying the extract_username function to 'Email' column\n",
        "    df['Username'] = df['Email'].apply(extract_username)\n",
        "    return df\n",
        "\n",
        "# Calling the function with the DataFrame\n",
        "df = add_username_column(df)\n",
        "print(df)"
      ],
      "metadata": {
        "colab": {
          "base_uri": "https://localhost:8080/"
        },
        "id": "5V5oohgIC28J",
        "outputId": "6ea70f46-c983-46f2-dc33-8f6e4c54df73"
      },
      "execution_count": 26,
      "outputs": [
        {
          "output_type": "stream",
          "name": "stdout",
          "text": [
            "                 Email Username\n",
            "0  abc.123@example.com  abc.123\n",
            "1  xyz.456@example.com  xyz.456\n",
            "2  pqr.789@example.com  pqr.789\n"
          ]
        }
      ]
    },
    {
      "cell_type": "markdown",
      "source": [
        "Q8. You have a Pandas DataFrame df with columns 'A', 'B', and 'C'. Write a Python function that selects\n",
        "all rows where the value in column 'A' is greater than 5 and the value in column 'B' is less than 10. The\n",
        "function should return a new DataFrame that contains only the selected rows.\n",
        "\n",
        "For example, if df contains the following values:\n",
        "\n",
        "A B C\n",
        "\n",
        "0 3 5 1\n",
        "\n",
        "1 8 2 7\n",
        "\n",
        "2 6 9 4\n",
        "\n",
        "3 2 3 5\n",
        "\n",
        "4 9 1 2\n",
        "\n",
        "Your function should select the following rows: A B C\n",
        "\n",
        "1 8 2 7\n",
        "\n",
        "4 9 1 2\n",
        "\n",
        "The function should return a new DataFrame that contains only the selected rows."
      ],
      "metadata": {
        "id": "FyRywtJ3DD5_"
      }
    },
    {
      "cell_type": "code",
      "source": [
        "data = {\n",
        "    'A': [3, 8, 6, 2, 9],\n",
        "    'B': [5, 2, 9, 3, 1],\n",
        "    'C': [1, 7, 4, 5, 2]\n",
        "}\n",
        "\n",
        "df = pd.DataFrame(data)\n",
        "print(df)"
      ],
      "metadata": {
        "colab": {
          "base_uri": "https://localhost:8080/"
        },
        "id": "YBHDgVwCDJXt",
        "outputId": "d3bd1886-ad11-467b-9fb1-696e10dca3cd"
      },
      "execution_count": 27,
      "outputs": [
        {
          "output_type": "stream",
          "name": "stdout",
          "text": [
            "   A  B  C\n",
            "0  3  5  1\n",
            "1  8  2  7\n",
            "2  6  9  4\n",
            "3  2  3  5\n",
            "4  9  1  2\n"
          ]
        }
      ]
    },
    {
      "cell_type": "code",
      "source": [
        "def select_rows(df):\n",
        "\n",
        "    # Selecting rows where 'A' > 5 and 'B' < 10\n",
        "    selected_rows = df[(df['A'] > 5) & (df['B'] < 10)]\n",
        "    return selected_rows\n",
        "\n",
        "# Calling the function with the DataFrame\n",
        "selected_df = select_rows(df)\n",
        "print(selected_df)"
      ],
      "metadata": {
        "colab": {
          "base_uri": "https://localhost:8080/"
        },
        "id": "Fdlftsb6DrtZ",
        "outputId": "aa3f53d1-537c-4f6c-de40-ec5e572972fb"
      },
      "execution_count": 28,
      "outputs": [
        {
          "output_type": "stream",
          "name": "stdout",
          "text": [
            "   A  B  C\n",
            "1  8  2  7\n",
            "2  6  9  4\n",
            "4  9  1  2\n"
          ]
        }
      ]
    },
    {
      "cell_type": "markdown",
      "source": [
        "Q9. Given a Pandas DataFrame df with a column 'Values', write a Python function to calculate the mean,\n",
        "median, and standard deviation of the values in the 'Values' column."
      ],
      "metadata": {
        "id": "usQWquEID4D8"
      }
    },
    {
      "cell_type": "code",
      "source": [
        "data = {\n",
        "    'Values': [10, 20, 30, 40, 50]\n",
        "}\n",
        "\n",
        "df = pd.DataFrame(data)\n",
        "print(df)\n",
        "print()\n",
        "\n",
        "def calculate_statistics(df):\n",
        "\n",
        "    # Calculating mean, median, and standard deviation of 'Values' column\n",
        "    mean_value = df['Values'].mean()\n",
        "    median_value = df['Values'].median()\n",
        "    std_deviation = df['Values'].std()\n",
        "\n",
        "    return mean_value, median_value, std_deviation\n",
        "\n",
        "# Calling the function with the DataFrame\n",
        "mean, median, std = calculate_statistics(df)\n",
        "print(f\"Mean: {mean}\")\n",
        "print(f\"Median: {median}\")\n",
        "print(f\"Standard Deviation: {std}\")"
      ],
      "metadata": {
        "colab": {
          "base_uri": "https://localhost:8080/"
        },
        "id": "XNjfbMZ9D656",
        "outputId": "ee175a8f-0436-4a4a-efdf-ae1f469c9918"
      },
      "execution_count": 29,
      "outputs": [
        {
          "output_type": "stream",
          "name": "stdout",
          "text": [
            "   Values\n",
            "0      10\n",
            "1      20\n",
            "2      30\n",
            "3      40\n",
            "4      50\n",
            "\n",
            "Mean: 30.0\n",
            "Median: 30.0\n",
            "Standard Deviation: 15.811388300841896\n"
          ]
        }
      ]
    },
    {
      "cell_type": "markdown",
      "source": [
        "Q10. Given a Pandas DataFrame df with a column 'Sales' and a column 'Date', write a Python function to\n",
        "create a new column 'MovingAverage' that contains the moving average of the sales for the past 7 days\n",
        "for each row in the DataFrame. The moving average should be calculated using a window of size 7 and\n",
        "should include the current day."
      ],
      "metadata": {
        "id": "H7LnDOBlEKAy"
      }
    },
    {
      "cell_type": "code",
      "source": [
        "data = {\n",
        "    'Date': pd.date_range('2023-01-01', periods=20),  # Sample date range\n",
        "    'Sales': [30, 40, 25, 35, 45, 55, 60, 70, 65, 80, 75, 90, 85, 95, 100, 110, 105, 120, 125, 115]  # Sample sales data\n",
        "}\n",
        "\n",
        "df = pd.DataFrame(data)\n",
        "print(df)"
      ],
      "metadata": {
        "colab": {
          "base_uri": "https://localhost:8080/"
        },
        "id": "VBwVyq_iENCt",
        "outputId": "0003440b-5d1e-4f4e-9119-0acf510fb108"
      },
      "execution_count": 30,
      "outputs": [
        {
          "output_type": "stream",
          "name": "stdout",
          "text": [
            "         Date  Sales\n",
            "0  2023-01-01     30\n",
            "1  2023-01-02     40\n",
            "2  2023-01-03     25\n",
            "3  2023-01-04     35\n",
            "4  2023-01-05     45\n",
            "5  2023-01-06     55\n",
            "6  2023-01-07     60\n",
            "7  2023-01-08     70\n",
            "8  2023-01-09     65\n",
            "9  2023-01-10     80\n",
            "10 2023-01-11     75\n",
            "11 2023-01-12     90\n",
            "12 2023-01-13     85\n",
            "13 2023-01-14     95\n",
            "14 2023-01-15    100\n",
            "15 2023-01-16    110\n",
            "16 2023-01-17    105\n",
            "17 2023-01-18    120\n",
            "18 2023-01-19    125\n",
            "19 2023-01-20    115\n"
          ]
        }
      ]
    },
    {
      "cell_type": "code",
      "source": [
        "def calculate_moving_average(df):\n",
        "\n",
        "    # Sorting DataFrame by 'Date' column\n",
        "    df = df.sort_values(by='Date')\n",
        "\n",
        "    # Calculating moving average using a window of size 7\n",
        "    df['MovingAverage'] = df['Sales'].rolling(window=7, min_periods=1).mean()\n",
        "\n",
        "    return df\n",
        "\n",
        "# Calling the function with the DataFrame\n",
        "df = calculate_moving_average(df)\n",
        "print(df)"
      ],
      "metadata": {
        "colab": {
          "base_uri": "https://localhost:8080/"
        },
        "id": "JUF9XGoXElhB",
        "outputId": "c458422c-59b6-4173-a961-43150bc344ec"
      },
      "execution_count": 31,
      "outputs": [
        {
          "output_type": "stream",
          "name": "stdout",
          "text": [
            "         Date  Sales  MovingAverage\n",
            "0  2023-01-01     30      30.000000\n",
            "1  2023-01-02     40      35.000000\n",
            "2  2023-01-03     25      31.666667\n",
            "3  2023-01-04     35      32.500000\n",
            "4  2023-01-05     45      35.000000\n",
            "5  2023-01-06     55      38.333333\n",
            "6  2023-01-07     60      41.428571\n",
            "7  2023-01-08     70      47.142857\n",
            "8  2023-01-09     65      50.714286\n",
            "9  2023-01-10     80      58.571429\n",
            "10 2023-01-11     75      64.285714\n",
            "11 2023-01-12     90      70.714286\n",
            "12 2023-01-13     85      75.000000\n",
            "13 2023-01-14     95      80.000000\n",
            "14 2023-01-15    100      84.285714\n",
            "15 2023-01-16    110      90.714286\n",
            "16 2023-01-17    105      94.285714\n",
            "17 2023-01-18    120     100.714286\n",
            "18 2023-01-19    125     105.714286\n",
            "19 2023-01-20    115     110.000000\n"
          ]
        }
      ]
    },
    {
      "cell_type": "markdown",
      "source": [
        "Q11. You have a Pandas DataFrame df with a column 'Date'. Write a Python function that creates a new\n",
        "column 'Weekday' in the DataFrame. The 'Weekday' column should contain the weekday name (e.g.\n",
        "Monday, Tuesday) corresponding to each date in the 'Date' column.\n",
        "\n",
        "For example, if df contains the following values:\n",
        "Date\n",
        "\n",
        "0 2023-01-01\n",
        "\n",
        "1 2023-01-02\n",
        "\n",
        "2 2023-01-03\n",
        "\n",
        "3 2023-01-04\n",
        "\n",
        "4 2023-01-05\n",
        "\n",
        "Your function should create the following DataFrame:\n",
        "\n",
        "Date Weekday\n",
        "\n",
        "0 2023-01-01 Sunday\n",
        "\n",
        "1 2023-01-02 Monday\n",
        "\n",
        "2 2023-01-03 Tuesday\n",
        "\n",
        "3 2023-01-04 Wednesday\n",
        "\n",
        "4 2023-01-05 Thursday\n",
        "\n",
        "The function should return the modified DataFrame."
      ],
      "metadata": {
        "id": "jj7V2kivE6q7"
      }
    },
    {
      "cell_type": "code",
      "source": [
        "data = {\n",
        "    'Date': pd.date_range('2023-01-01', periods=5)  # Sample date range\n",
        "}\n",
        "\n",
        "df = pd.DataFrame(data)\n",
        "print(df)"
      ],
      "metadata": {
        "colab": {
          "base_uri": "https://localhost:8080/"
        },
        "id": "4gf0UUj3FDUN",
        "outputId": "77b2bb56-476a-40f7-ab32-1db113480076"
      },
      "execution_count": 32,
      "outputs": [
        {
          "output_type": "stream",
          "name": "stdout",
          "text": [
            "        Date\n",
            "0 2023-01-01\n",
            "1 2023-01-02\n",
            "2 2023-01-03\n",
            "3 2023-01-04\n",
            "4 2023-01-05\n"
          ]
        }
      ]
    },
    {
      "cell_type": "code",
      "source": [
        "def add_weekday_column(df):\n",
        "\n",
        "    # Adding a new 'Weekday' column containing the weekday names\n",
        "    df['Weekday'] = df['Date'].dt.day_name()\n",
        "    return df\n",
        "\n",
        "# Calling the function with the DataFrame\n",
        "df = add_weekday_column(df)\n",
        "print(df)"
      ],
      "metadata": {
        "colab": {
          "base_uri": "https://localhost:8080/"
        },
        "id": "2hpsqBvZFbJZ",
        "outputId": "43540ab6-67bb-4c29-a662-a9905c58f491"
      },
      "execution_count": 33,
      "outputs": [
        {
          "output_type": "stream",
          "name": "stdout",
          "text": [
            "        Date    Weekday\n",
            "0 2023-01-01     Sunday\n",
            "1 2023-01-02     Monday\n",
            "2 2023-01-03    Tuesday\n",
            "3 2023-01-04  Wednesday\n",
            "4 2023-01-05   Thursday\n"
          ]
        }
      ]
    },
    {
      "cell_type": "markdown",
      "source": [
        "Q12. Given a Pandas DataFrame df with a column 'Date' that contains timestamps, write a Python\n",
        "function to select all rows where the date is between '2023-01-01' and '2023-01-31'."
      ],
      "metadata": {
        "id": "g4rU9D26Fhnc"
      }
    },
    {
      "cell_type": "code",
      "source": [
        "data = {\n",
        "    'Date': pd.date_range('2023-01-01', periods=50)  # Sample date range\n",
        "}\n",
        "\n",
        "df = pd.DataFrame(data)\n",
        "print(df)"
      ],
      "metadata": {
        "colab": {
          "base_uri": "https://localhost:8080/"
        },
        "id": "Cs4kFGLbFkdS",
        "outputId": "38600016-f232-47be-8dd4-9214beca25fb"
      },
      "execution_count": 34,
      "outputs": [
        {
          "output_type": "stream",
          "name": "stdout",
          "text": [
            "         Date\n",
            "0  2023-01-01\n",
            "1  2023-01-02\n",
            "2  2023-01-03\n",
            "3  2023-01-04\n",
            "4  2023-01-05\n",
            "5  2023-01-06\n",
            "6  2023-01-07\n",
            "7  2023-01-08\n",
            "8  2023-01-09\n",
            "9  2023-01-10\n",
            "10 2023-01-11\n",
            "11 2023-01-12\n",
            "12 2023-01-13\n",
            "13 2023-01-14\n",
            "14 2023-01-15\n",
            "15 2023-01-16\n",
            "16 2023-01-17\n",
            "17 2023-01-18\n",
            "18 2023-01-19\n",
            "19 2023-01-20\n",
            "20 2023-01-21\n",
            "21 2023-01-22\n",
            "22 2023-01-23\n",
            "23 2023-01-24\n",
            "24 2023-01-25\n",
            "25 2023-01-26\n",
            "26 2023-01-27\n",
            "27 2023-01-28\n",
            "28 2023-01-29\n",
            "29 2023-01-30\n",
            "30 2023-01-31\n",
            "31 2023-02-01\n",
            "32 2023-02-02\n",
            "33 2023-02-03\n",
            "34 2023-02-04\n",
            "35 2023-02-05\n",
            "36 2023-02-06\n",
            "37 2023-02-07\n",
            "38 2023-02-08\n",
            "39 2023-02-09\n",
            "40 2023-02-10\n",
            "41 2023-02-11\n",
            "42 2023-02-12\n",
            "43 2023-02-13\n",
            "44 2023-02-14\n",
            "45 2023-02-15\n",
            "46 2023-02-16\n",
            "47 2023-02-17\n",
            "48 2023-02-18\n",
            "49 2023-02-19\n"
          ]
        }
      ]
    },
    {
      "cell_type": "code",
      "source": [
        "def select_date_range(df):\n",
        "\n",
        "    # Converting string dates to datetime objects for comparison\n",
        "    start_date = pd.to_datetime('2023-01-01')\n",
        "    end_date = pd.to_datetime('2023-01-31')\n",
        "\n",
        "    # Selecting rows where 'Date' is between '2023-01-01' and '2023-01-31'\n",
        "    selected_rows = df[(df['Date'] >= start_date) & (df['Date'] <= end_date)]\n",
        "    return selected_rows\n",
        "\n",
        "# Calling the function with the DataFrame\n",
        "selected_df = select_date_range(df)\n",
        "print(selected_df)"
      ],
      "metadata": {
        "colab": {
          "base_uri": "https://localhost:8080/"
        },
        "id": "L3xgp9slFwRN",
        "outputId": "381fa16e-a6d5-4e1c-ac21-f86923a1fd37"
      },
      "execution_count": 35,
      "outputs": [
        {
          "output_type": "stream",
          "name": "stdout",
          "text": [
            "         Date\n",
            "0  2023-01-01\n",
            "1  2023-01-02\n",
            "2  2023-01-03\n",
            "3  2023-01-04\n",
            "4  2023-01-05\n",
            "5  2023-01-06\n",
            "6  2023-01-07\n",
            "7  2023-01-08\n",
            "8  2023-01-09\n",
            "9  2023-01-10\n",
            "10 2023-01-11\n",
            "11 2023-01-12\n",
            "12 2023-01-13\n",
            "13 2023-01-14\n",
            "14 2023-01-15\n",
            "15 2023-01-16\n",
            "16 2023-01-17\n",
            "17 2023-01-18\n",
            "18 2023-01-19\n",
            "19 2023-01-20\n",
            "20 2023-01-21\n",
            "21 2023-01-22\n",
            "22 2023-01-23\n",
            "23 2023-01-24\n",
            "24 2023-01-25\n",
            "25 2023-01-26\n",
            "26 2023-01-27\n",
            "27 2023-01-28\n",
            "28 2023-01-29\n",
            "29 2023-01-30\n",
            "30 2023-01-31\n"
          ]
        }
      ]
    },
    {
      "cell_type": "markdown",
      "source": [
        "Q13. To use the basic functions of pandas, what is the first and foremost necessary library that needs to\n",
        "be imported?"
      ],
      "metadata": {
        "id": "QYRhvrrMGBVs"
      }
    },
    {
      "cell_type": "code",
      "source": [
        "## The primary library required to use the basic functions of Pandas is pandas itself.\n",
        "import pandas as pd"
      ],
      "metadata": {
        "id": "WiGZeolOGCAH"
      },
      "execution_count": 36,
      "outputs": []
    }
  ]
}
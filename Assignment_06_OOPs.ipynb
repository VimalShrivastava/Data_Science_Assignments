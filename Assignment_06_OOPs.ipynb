{
  "nbformat": 4,
  "nbformat_minor": 0,
  "metadata": {
    "colab": {
      "provenance": []
    },
    "kernelspec": {
      "name": "python3",
      "display_name": "Python 3"
    },
    "language_info": {
      "name": "python"
    }
  },
  "cells": [
    {
      "cell_type": "markdown",
      "source": [
        "**Q1. Explain Class and Object with respect to Object-Oriented Programming. Give a suitable example.**\n",
        "\n",
        "Ans: A class is a blueprint or template that defines the characteristics and behaviors of a particular type of object\n",
        "\n",
        "Object: Objects have states and behaviors. An object is an instance of a class.\n"
      ],
      "metadata": {
        "id": "nvgqXaNqO1H2"
      }
    },
    {
      "cell_type": "code",
      "source": [
        "# Example\n",
        "\n",
        "class Car:\n",
        "    def __init__(self, make, model, year):\n",
        "        self.make = make\n",
        "        self.model = model\n",
        "        self.year = year\n",
        "\n",
        "    def start_engine(self):\n",
        "        print(f\"The {self.make} {self.model}'s engine is starting.\")\n",
        "\n",
        "    def drive(self):\n",
        "        print(f\"The {self.make} {self.model} is being driven.\")\n",
        "\n",
        "# Creating objects from the Car class\n",
        "car1 = Car(\"Toyota\", \"Camry\", 2022)\n",
        "car2 = Car(\"Honda\", \"Accord\", 2021)\n",
        "\n",
        "# Accessing attributes of car1\n",
        "print(car1.make)\n",
        "print(car1.model)\n",
        "print(car1.year)\n",
        "\n",
        "# Calling methods on car2\n",
        "car2.start_engine()\n",
        "car2.drive()"
      ],
      "metadata": {
        "colab": {
          "base_uri": "https://localhost:8080/"
        },
        "id": "opDmTcI7O3wp",
        "outputId": "62be2136-2a1c-4c2f-f50b-2590cda04d07"
      },
      "execution_count": 1,
      "outputs": [
        {
          "output_type": "stream",
          "name": "stdout",
          "text": [
            "Toyota\n",
            "Camry\n",
            "2022\n",
            "The Honda Accord's engine is starting.\n",
            "The Honda Accord is being driven.\n"
          ]
        }
      ]
    },
    {
      "cell_type": "markdown",
      "source": [
        "**Q2. Name the four pillars of OOPs.**\n",
        "\n",
        "Ans: The four pillars of object-oriented programming (OOP) are:\n",
        "\n",
        "**Encapsulation:** Encapsulation refers to the bundling of data (attributes) and related behaviors (methods) into a single unit called a class. It ensures that the internal implementation details are hidden from external access.\n",
        "\n",
        "**Inheritance:** Inheritance allows the creation of new classes based on existing classes. The derived classes inherit the attributes and methods of the base class and enable the code reusable.\n",
        "\n",
        "**Polymorphism:** Polymorphism allows objects of different classes to be treated as objects of a common superclass. Polymorphism enables code flexibility.\n",
        "\n",
        "**Abstraction:** Abstraction involves representing complex real-world entities as simplified models within the programming context. It focuses on capturing only the essential features and behaviors while hiding unnecessary details."
      ],
      "metadata": {
        "id": "vTe4h4o5QloT"
      }
    },
    {
      "cell_type": "code",
      "source": [
        "\"\"\"\n",
        "Q3. Explain why the __init__() function is used. Give a suitable example.\n",
        "\n",
        "Ans: The __init__() function is a special method in Python classes that is automatically called when an object is created from the class.\n",
        "It is commonly known as the constructor method. The primary purpose of the __init__() function is to initialize the attributes (data).\n",
        "\n",
        "\"\"\"\n",
        "\n",
        "# Example\n",
        "class Person:\n",
        "    def __init__(self, name, age):\n",
        "        self.name = name\n",
        "        self.age = age\n",
        "\n",
        "    def introduce(self):\n",
        "        print(f\"My name is {self.name} and I am {self.age} years old.\")\n",
        "\n",
        "# Creating objects from the Person class\n",
        "person1 = Person(\"Mohan\", 25)\n",
        "person2 = Person(\"Rohan\", 30)\n",
        "\n",
        "# Accessing attributes and calling the method\n",
        "person1.introduce()\n",
        "person2.introduce()"
      ],
      "metadata": {
        "colab": {
          "base_uri": "https://localhost:8080/"
        },
        "id": "gtTnP01aSZuw",
        "outputId": "89d66028-0a8f-422a-924f-c6abff551ab2"
      },
      "execution_count": 3,
      "outputs": [
        {
          "output_type": "stream",
          "name": "stdout",
          "text": [
            "My name is Mohan and I am 25 years old.\n",
            "My name is Rohan and I am 30 years old.\n"
          ]
        }
      ]
    },
    {
      "cell_type": "markdown",
      "source": [
        "**Q4. Why self is used in OOPs?**\n",
        "\n",
        "Ans: The self variable is used to represent the instance of the class. It works as a reference to the object. The self parameter is used to refer to instance attributes and methods of the class."
      ],
      "metadata": {
        "id": "vwoe64BOS6bM"
      }
    },
    {
      "cell_type": "markdown",
      "source": [
        "**Q5. What is inheritance? Give an example for each type of inheritance.**\n",
        "\n",
        "Ans: Inheritance allows the creation of new classes based on existing classes. The derived classes inherit the attributes and methods of the base class and enable the code reusable."
      ],
      "metadata": {
        "id": "DaOELc1mTUGr"
      }
    },
    {
      "cell_type": "code",
      "source": [
        "\"\"\"\n",
        "1. Single Inheritance: It occurs when a derived class inherits from a single base class.\n",
        "The derived class inherits all the attributes and methods of the base class\n",
        "\"\"\"\n",
        "class Vehicle:\n",
        "    def __init__(self, brand):\n",
        "        self.brand = brand\n",
        "\n",
        "    def show_brand(self):\n",
        "        print(\"Brand:\", self.brand)\n",
        "\n",
        "\n",
        "class Car(Vehicle):\n",
        "\n",
        "    def show_model(self):\n",
        "        print(\"Brand:\", self.brand)\n",
        "\n",
        "car = Car(\"Toyota\")\n",
        "car.show_model()"
      ],
      "metadata": {
        "colab": {
          "base_uri": "https://localhost:8080/"
        },
        "id": "y7KNRXkHT8XG",
        "outputId": "83377872-50e2-46c0-ae47-a757cc1afc52"
      },
      "execution_count": 6,
      "outputs": [
        {
          "output_type": "stream",
          "name": "stdout",
          "text": [
            "Brand: Toyota\n"
          ]
        }
      ]
    },
    {
      "cell_type": "code",
      "source": [
        "\"\"\"\n",
        "2. Multiple Inheritance: It occurs when a derived class inherits from multiple base classes.\n",
        "The derived class inherits attributes and methods from all the base classes.\n",
        "\"\"\"\n",
        "class Animal:\n",
        "    def eat(self):\n",
        "        print(\"Animal is eating.\")\n",
        "\n",
        "\n",
        "class Mammal:\n",
        "    def walk(self):\n",
        "        print(\"Mammal is walking.\")\n",
        "\n",
        "\n",
        "class Dog(Animal, Mammal):\n",
        "    def bark(self):\n",
        "        print(\"Dog is barking.\")\n",
        "\n",
        "dog = Dog()\n",
        "dog.eat()\n",
        "dog.walk()\n",
        "dog.bark()"
      ],
      "metadata": {
        "colab": {
          "base_uri": "https://localhost:8080/"
        },
        "id": "329Q8BDKVF4Y",
        "outputId": "128039d8-53d4-4cb5-8ad9-b85f38f01c67"
      },
      "execution_count": 7,
      "outputs": [
        {
          "output_type": "stream",
          "name": "stdout",
          "text": [
            "Animal is eating.\n",
            "Mammal is walking.\n",
            "Dog is barking.\n"
          ]
        }
      ]
    },
    {
      "cell_type": "code",
      "source": [
        "\"\"\"\n",
        "3. Multilevel Inheritance: It occurs when a derived class inherits from a base class and another class inherits from the derived class.\n",
        "It creates a chain of inheritance.\n",
        "\"\"\"\n",
        "class Animal:\n",
        "    def eat(self):\n",
        "        print(\"Animal is eating.\")\n",
        "\n",
        "\n",
        "class Mammal(Animal):\n",
        "    def walk(self):\n",
        "        print(\"Mammal is walking.\")\n",
        "\n",
        "\n",
        "class Dog(Mammal):\n",
        "    def bark(self):\n",
        "        print(\"Dog is barking.\")\n",
        "\n",
        "dog = Dog()\n",
        "dog.eat()\n",
        "dog.walk()\n",
        "dog.bark()"
      ],
      "metadata": {
        "colab": {
          "base_uri": "https://localhost:8080/"
        },
        "id": "sO5VjMAcVel_",
        "outputId": "f0f47ad7-3879-4908-d4af-852672ec25a4"
      },
      "execution_count": 8,
      "outputs": [
        {
          "output_type": "stream",
          "name": "stdout",
          "text": [
            "Animal is eating.\n",
            "Mammal is walking.\n",
            "Dog is barking.\n"
          ]
        }
      ]
    },
    {
      "cell_type": "code",
      "source": [
        "\"\"\"\n",
        "4. Hierarchical Inheritance: It occurs when multiple derived classes inherit from a single base class.\n",
        "Each derived class has its own set of additional attributes and methods.\n",
        "\"\"\"\n",
        "class Shape:\n",
        "    def draw(self):\n",
        "        print(\"Drawing a shape.\")\n",
        "\n",
        "\n",
        "class Circle(Shape):\n",
        "    def draw(self):\n",
        "        print(\"Drawing a circle.\")\n",
        "\n",
        "\n",
        "class Rectangle(Shape):\n",
        "    def draw(self):\n",
        "        print(\"Drawing a rectangle.\")\n",
        "\n",
        "\n",
        "circle = Circle()\n",
        "circle.draw()\n",
        "\n",
        "rectangle = Rectangle()\n",
        "rectangle.draw()"
      ],
      "metadata": {
        "colab": {
          "base_uri": "https://localhost:8080/"
        },
        "id": "M6C3S25RV2lY",
        "outputId": "57fcb081-3c9b-4879-86f5-d6da104fefb4"
      },
      "execution_count": 9,
      "outputs": [
        {
          "output_type": "stream",
          "name": "stdout",
          "text": [
            "Drawing a circle.\n",
            "Drawing a rectangle.\n"
          ]
        }
      ]
    },
    {
      "cell_type": "code",
      "source": [
        "\"\"\"\n",
        "5. Hybrid Inheritance: It consists of multiple types of inheritance.\n",
        "\"\"\"\n",
        "\n",
        "class School:\n",
        "\tdef func1(self):\n",
        "\t\tprint(\"This function is in school.\")\n",
        "\n",
        "\n",
        "class Student1(School):\n",
        "\tdef func2(self):\n",
        "\t\tprint(\"This function is in student 1. \")\n",
        "\n",
        "\n",
        "class Student2(School):\n",
        "\tdef func3(self):\n",
        "\t\tprint(\"This function is in student 2.\")\n",
        "\n",
        "\n",
        "class Student3(Student1, School):\n",
        "\tdef func4(self):\n",
        "\t\tprint(\"This function is in student 3.\")\n",
        "\n",
        "object = Student3()\n",
        "object.func1()\n",
        "object.func2()"
      ],
      "metadata": {
        "colab": {
          "base_uri": "https://localhost:8080/"
        },
        "id": "MZEc8B61WWrP",
        "outputId": "33bbc5b9-7573-4e77-8a7f-af0341f4b78d"
      },
      "execution_count": 12,
      "outputs": [
        {
          "output_type": "stream",
          "name": "stdout",
          "text": [
            "This function is in school.\n",
            "This function is in student 1. \n"
          ]
        }
      ]
    }
  ]
}
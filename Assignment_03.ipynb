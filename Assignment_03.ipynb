{
  "nbformat": 4,
  "nbformat_minor": 0,
  "metadata": {
    "colab": {
      "provenance": [],
      "gpuType": "T4"
    },
    "kernelspec": {
      "name": "python3",
      "display_name": "Python 3"
    },
    "language_info": {
      "name": "python"
    },
    "accelerator": "GPU",
    "gpuClass": "standard"
  },
  "cells": [
    {
      "cell_type": "markdown",
      "source": [
        "**Q1. Which keyword is used to create a function? Create a function to return a list of odd numbers in the range of 1 to 25**\n",
        "\n",
        "Ans: The keyword used to create a function is \"def\"."
      ],
      "metadata": {
        "id": "6zgSaYLQw364"
      }
    },
    {
      "cell_type": "code",
      "source": [
        "# A function to return a list of odd numbers\n",
        "def odd_numbers(l1):\n",
        "    l2 = []\n",
        "    for i in range(len(l1)+1):\n",
        "        if (i%2 != 0):\n",
        "          l2.append(i)\n",
        "    return l2 "
      ],
      "metadata": {
        "id": "mPpu6xqhw-Fd"
      },
      "execution_count": 40,
      "outputs": []
    },
    {
      "cell_type": "code",
      "source": [
        "list_1 = list(range(1, 26))\n",
        "list_2 = odd_numbers(list_1)\n",
        "list_2 "
      ],
      "metadata": {
        "colab": {
          "base_uri": "https://localhost:8080/"
        },
        "id": "wod4yq0Yyyt6",
        "outputId": "2a5e87ec-b000-4df9-ea24-993e2d235b89"
      },
      "execution_count": 41,
      "outputs": [
        {
          "output_type": "execute_result",
          "data": {
            "text/plain": [
              "[1, 3, 5, 7, 9, 11, 13, 15, 17, 19, 21, 23, 25]"
            ]
          },
          "metadata": {},
          "execution_count": 41
        }
      ]
    },
    {
      "cell_type": "code",
      "source": [
        "\"\"\"\n",
        "Q2. Why *args and **kwargs is used in some functions? Create a function each for *args and **kwargs to demonstrate their use.\n",
        "\n",
        "Ans: The *args and **kwargs are used in functions to pass a variable number of arguments in a function.\n",
        "\n",
        "*args: The *args parameter allows a function to accept any number of positional arguments. It collects these arguments into a tuple,\n",
        "\n",
        "**kwargs: The **kwargs parameter allows a function to accept any number of keyword arguments. It collects these arguments into a dictionary,\n",
        "\n",
        "\"\"\"\n",
        "\n",
        "# Example of a function with *args\n",
        "def function_1(*args):\n",
        "    print(args)\n",
        "\n",
        "# Example of a function with **kwargs\n",
        "def function_2(**kwargs):\n",
        "    print(kwargs)"
      ],
      "metadata": {
        "id": "aFtgOerv1pNr"
      },
      "execution_count": 15,
      "outputs": []
    },
    {
      "cell_type": "code",
      "source": [
        "function_1(3, 4, 5, 6.7, \"True\", \"Vimal\")"
      ],
      "metadata": {
        "colab": {
          "base_uri": "https://localhost:8080/"
        },
        "id": "TYME95V93gvX",
        "outputId": "cbc3a697-8001-4879-8df2-fcf87927870c"
      },
      "execution_count": 11,
      "outputs": [
        {
          "output_type": "stream",
          "name": "stdout",
          "text": [
            "(3, 4, 5, 6.7, 'True', 'Vimal')\n"
          ]
        }
      ]
    },
    {
      "cell_type": "code",
      "source": [
        "function_2(Name=\"Vimal\", Age=35)"
      ],
      "metadata": {
        "colab": {
          "base_uri": "https://localhost:8080/"
        },
        "id": "LaBbi8kX3xvo",
        "outputId": "a444e0b7-97a9-4541-b16b-f034de8fd37f"
      },
      "execution_count": 16,
      "outputs": [
        {
          "output_type": "stream",
          "name": "stdout",
          "text": [
            "{'Name': 'Vimal', 'Age': 35}\n"
          ]
        }
      ]
    },
    {
      "cell_type": "markdown",
      "source": [
        "**Q3. What is an iterator in python? Name the method used to initialise the iterator object and the method used for iteration. Use these methods to print the first five elements of the given list [2, 4, 6, 8, 10, 12, 14, 16, 18, 20].**\n",
        "\n",
        "Ans: An iterator is an object that contains a countable number of values.\n",
        "\n",
        "The method used to initialise the iterator object is Iter().\n",
        "\n",
        "The method used for iteration is next()."
      ],
      "metadata": {
        "id": "x0zLt7HI6C_U"
      }
    },
    {
      "cell_type": "code",
      "source": [
        "my_list = [2, 4, 6, 8, 10, 12, 14, 16, 18, 20]\n",
        "\n",
        "iter_obj = iter(my_list)\n",
        "\n",
        "for i in range(5):\n",
        "    print(next(iter_obj))"
      ],
      "metadata": {
        "colab": {
          "base_uri": "https://localhost:8080/"
        },
        "id": "EkBSmqX9vuvv",
        "outputId": "5fcc1095-040f-4839-b81a-5b79c3410e91"
      },
      "execution_count": 21,
      "outputs": [
        {
          "output_type": "stream",
          "name": "stdout",
          "text": [
            "2\n",
            "4\n",
            "6\n",
            "8\n",
            "10\n"
          ]
        }
      ]
    },
    {
      "cell_type": "markdown",
      "source": [
        "**Q4. What is a generator function in python? Why yield keyword is used? Give an example of a generator function.**\n",
        "\n",
        "Ans: The generator function allows to declare a function that behaves like an iterator.\n",
        "\n",
        "The yield keyword is used in generator function because it returns a generator object instead of values."
      ],
      "metadata": {
        "id": "jDhtSLFZwC8_"
      }
    },
    {
      "cell_type": "code",
      "source": [
        "# Example of generator function\n",
        "def countdown(n):\n",
        "    while n > 0:\n",
        "        yield n\n",
        "        n -= 1"
      ],
      "metadata": {
        "id": "qTQ6tfjewIx6"
      },
      "execution_count": 25,
      "outputs": []
    },
    {
      "cell_type": "code",
      "source": [
        "obj = countdown(5)\n",
        "for i in obj:\n",
        "    print(i)"
      ],
      "metadata": {
        "colab": {
          "base_uri": "https://localhost:8080/"
        },
        "id": "gwKMWAOfxuqt",
        "outputId": "d71971ab-6210-4b26-9f5e-37b27e3326ae"
      },
      "execution_count": 27,
      "outputs": [
        {
          "output_type": "stream",
          "name": "stdout",
          "text": [
            "5\n",
            "4\n",
            "3\n",
            "2\n",
            "1\n"
          ]
        }
      ]
    },
    {
      "cell_type": "markdown",
      "source": [
        "**Q5. Create a generator function for prime numbers less than 1000. Use the next() method to print the first 20 prime numbers.**"
      ],
      "metadata": {
        "id": "commSY4YyW7Q"
      }
    },
    {
      "cell_type": "code",
      "source": [
        "# Generator function for prime numbers less than 1000\n",
        "def prime_number():\n",
        "    for n in range (2, 1000):\n",
        "        for i in range(2, n):\n",
        "            if (n % i == 0):\n",
        "                break\n",
        "        else:\n",
        "            yield n"
      ],
      "metadata": {
        "id": "N6ZW6YuVlDvn"
      },
      "execution_count": 68,
      "outputs": []
    },
    {
      "cell_type": "code",
      "source": [
        "# print first 20 prime numbers using next() method\n",
        "obj = prime_number()\n",
        "\n",
        "for i in range(1,21):\n",
        "    print(next(obj))"
      ],
      "metadata": {
        "colab": {
          "base_uri": "https://localhost:8080/"
        },
        "id": "qfB6Z_T_mO9b",
        "outputId": "7e306bad-e8c7-469e-c471-0ea0716e6749"
      },
      "execution_count": 67,
      "outputs": [
        {
          "output_type": "stream",
          "name": "stdout",
          "text": [
            "2\n",
            "3\n",
            "5\n",
            "7\n",
            "11\n",
            "13\n",
            "17\n",
            "19\n",
            "23\n",
            "29\n",
            "31\n",
            "37\n",
            "41\n",
            "43\n",
            "47\n",
            "53\n",
            "59\n",
            "61\n",
            "67\n",
            "71\n"
          ]
        }
      ]
    },
    {
      "cell_type": "markdown",
      "source": [
        "**Q6. Write a python program to print the first 10 Fibonacci numbers using a while loop.**"
      ],
      "metadata": {
        "id": "5tJEVNVp2QRl"
      }
    },
    {
      "cell_type": "code",
      "source": [
        "# A program to generate first 10 Fibonacci numbers using a while loop\n",
        "\n",
        "a = 0\n",
        "b = 1\n",
        "sum = 0\n",
        "count = 1\n",
        "\n",
        "while (count<=10): \n",
        "    sum = sum + a\n",
        "    print(sum)\n",
        "    a = b\n",
        "    b = sum\n",
        "    count += 1"
      ],
      "metadata": {
        "colab": {
          "base_uri": "https://localhost:8080/"
        },
        "id": "kZKiH3NFV1T3",
        "outputId": "be1b92d8-8a66-407b-e11e-ec2804aeeac4"
      },
      "execution_count": 16,
      "outputs": [
        {
          "output_type": "stream",
          "name": "stdout",
          "text": [
            "0\n",
            "1\n",
            "1\n",
            "2\n",
            "3\n",
            "5\n",
            "8\n",
            "13\n",
            "21\n",
            "34\n"
          ]
        }
      ]
    },
    {
      "cell_type": "markdown",
      "source": [
        "**Q7. Write a List Comprehension to iterate through the given string: pwskills.**\n",
        "\n",
        "**Expected output:** ['p', 'w', 's', 'k', 'i', 'l', 'l', 's']"
      ],
      "metadata": {
        "id": "F2wOVvhCeTUT"
      }
    },
    {
      "cell_type": "code",
      "source": [
        "str_1 = \"pwskills\"\n",
        "\n",
        "str_2 = [char for char in str_1]\n",
        "\n",
        "str_2"
      ],
      "metadata": {
        "colab": {
          "base_uri": "https://localhost:8080/"
        },
        "id": "bn-VULapeZVF",
        "outputId": "fe758e80-fe01-43b3-f699-d2132b0444d4"
      },
      "execution_count": 19,
      "outputs": [
        {
          "output_type": "execute_result",
          "data": {
            "text/plain": [
              "['p', 'w', 's', 'k', 'i', 'l', 'l', 's']"
            ]
          },
          "metadata": {},
          "execution_count": 19
        }
      ]
    },
    {
      "cell_type": "markdown",
      "source": [
        "**Q8. Write a python program to check whether a given number is Palindrome or not using a while loop.**"
      ],
      "metadata": {
        "id": "25AJpzvIib_1"
      }
    },
    {
      "cell_type": "code",
      "source": [],
      "metadata": {
        "id": "1FpEAPpiigRA"
      },
      "execution_count": null,
      "outputs": []
    },
    {
      "cell_type": "markdown",
      "source": [
        "**Q9. Write a code to print odd numbers from 1 to 100 using list comprehension.**"
      ],
      "metadata": {
        "id": "cZ2LKNACigxl"
      }
    },
    {
      "cell_type": "code",
      "source": [
        "my_list = [num for num in range(101)]\n",
        "\n",
        "list_odd = [num for num in my_list if (my_list[num]%2==1)]\n",
        "\n",
        "list_odd"
      ],
      "metadata": {
        "colab": {
          "base_uri": "https://localhost:8080/"
        },
        "id": "pAdzVhJeilTI",
        "outputId": "f5b606c8-e71c-436e-f851-dcb9af2cd7a1"
      },
      "execution_count": 21,
      "outputs": [
        {
          "output_type": "execute_result",
          "data": {
            "text/plain": [
              "[1,\n",
              " 3,\n",
              " 5,\n",
              " 7,\n",
              " 9,\n",
              " 11,\n",
              " 13,\n",
              " 15,\n",
              " 17,\n",
              " 19,\n",
              " 21,\n",
              " 23,\n",
              " 25,\n",
              " 27,\n",
              " 29,\n",
              " 31,\n",
              " 33,\n",
              " 35,\n",
              " 37,\n",
              " 39,\n",
              " 41,\n",
              " 43,\n",
              " 45,\n",
              " 47,\n",
              " 49,\n",
              " 51,\n",
              " 53,\n",
              " 55,\n",
              " 57,\n",
              " 59,\n",
              " 61,\n",
              " 63,\n",
              " 65,\n",
              " 67,\n",
              " 69,\n",
              " 71,\n",
              " 73,\n",
              " 75,\n",
              " 77,\n",
              " 79,\n",
              " 81,\n",
              " 83,\n",
              " 85,\n",
              " 87,\n",
              " 89,\n",
              " 91,\n",
              " 93,\n",
              " 95,\n",
              " 97,\n",
              " 99]"
            ]
          },
          "metadata": {},
          "execution_count": 21
        }
      ]
    }
  ]
}
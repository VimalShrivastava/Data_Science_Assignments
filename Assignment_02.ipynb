{
  "nbformat": 4,
  "nbformat_minor": 0,
  "metadata": {
    "colab": {
      "provenance": [],
      "gpuType": "T4"
    },
    "kernelspec": {
      "name": "python3",
      "display_name": "Python 3"
    },
    "language_info": {
      "name": "python"
    },
    "accelerator": "GPU",
    "gpuClass": "standard"
  },
  "cells": [
    {
      "cell_type": "markdown",
      "source": [
        "**Q1. How do you comment code in Python? What are the different types of comments?**\n",
        "\n",
        "Ans: Python supports two types of comments:\n",
        "(i) single-line comment\n",
        "(ii) multi-line comments."
      ],
      "metadata": {
        "id": "ha5jQOernKmY"
      }
    },
    {
      "cell_type": "code",
      "source": [
        "# This is an example of single-line comment\n",
        "print(\"Hello\")\n",
        "\n",
        "\"\"\"\n",
        "This is an example of multi-line comment\n",
        "Python supports two types of comments:\n",
        "(i) single-line comment\n",
        "(ii) multi-line comments.\n",
        "\"\"\""
      ],
      "metadata": {
        "colab": {
          "base_uri": "https://localhost:8080/",
          "height": 54
        },
        "id": "M2PRq_AXnNR5",
        "outputId": "47099f2a-19a0-4a4a-931e-7e48fb8a72a9"
      },
      "execution_count": 5,
      "outputs": [
        {
          "output_type": "stream",
          "name": "stdout",
          "text": [
            "Hello\n"
          ]
        },
        {
          "output_type": "execute_result",
          "data": {
            "text/plain": [
              "'\\nThis is an example of multi-line comment\\nPython supports two types of comments:\\n(i) single-line comment\\n(ii) multi-line comments.\\n'"
            ],
            "application/vnd.google.colaboratory.intrinsic+json": {
              "type": "string"
            }
          },
          "metadata": {},
          "execution_count": 5
        }
      ]
    },
    {
      "cell_type": "markdown",
      "source": [
        "**Q2. What are variables in Python? How do you declare and assign values to variables?**\n",
        "\n",
        "Ans: In Python, variables are used to store data. A variable is a name given to a value or an object in memory."
      ],
      "metadata": {
        "id": "jd_oDwgi3qU6"
      }
    },
    {
      "cell_type": "code",
      "source": [
        "# Variable declaration and assignment\n",
        "Name = \"Vimal\"\n",
        "Age = 35\n",
        "List_Var = [True, False, 100, 500, 4.5, \"Python\"]\n",
        "Tuple_Var = (True, False, 100, 500, 4.5, \"Python\")\n",
        "Dict_Var = {\"Name\": \"Vimal\", \"Age\": 35}\n",
        "\n",
        "print(Name)\n",
        "print(Age)\n",
        "print(List_Var)\n",
        "print(Tuple_Var)\n",
        "print(Dict_Var)"
      ],
      "metadata": {
        "colab": {
          "base_uri": "https://localhost:8080/"
        },
        "id": "8OT4MdAY3ycD",
        "outputId": "c9ef59c5-aed1-4c17-a248-24ba65ef6350"
      },
      "execution_count": 2,
      "outputs": [
        {
          "output_type": "stream",
          "name": "stdout",
          "text": [
            "Vimal\n",
            "35\n",
            "[True, False, 100, 500, 4.5, 'Python']\n",
            "(True, False, 100, 500, 4.5, 'Python')\n",
            "{'Name': 'Vimal', 'Age': 35}\n"
          ]
        }
      ]
    },
    {
      "cell_type": "markdown",
      "source": [
        "**Q3. How do you convert one data type to another in Python**\n",
        "\n",
        "Ans:In Python, we can convert one data type to another using type conversion functions."
      ],
      "metadata": {
        "id": "eRqhU1tV6Fv9"
      }
    },
    {
      "cell_type": "code",
      "source": [
        "#Convert int to a float\n",
        "int_var = 10\n",
        "float_var = float(int_var)\n",
        "print(int_var)\n",
        "print(float_var)\n",
        "\n",
        "print()\n",
        "\n",
        "#Convert float to int\n",
        "float_var = 20.5\n",
        "int_var = int(float_var)\n",
        "print(float_var)\n",
        "print(int_var)"
      ],
      "metadata": {
        "colab": {
          "base_uri": "https://localhost:8080/"
        },
        "id": "IeV2EWuS5kJl",
        "outputId": "824dce5d-b0a6-447d-d439-ace7ca2fd001"
      },
      "execution_count": 8,
      "outputs": [
        {
          "output_type": "stream",
          "name": "stdout",
          "text": [
            "10\n",
            "10.0\n",
            "\n",
            "20.5\n",
            "20\n"
          ]
        }
      ]
    },
    {
      "cell_type": "markdown",
      "source": [
        "**Q4. How do you write and execute a Python script from the command line?**\n",
        "\n",
        "Ans:\n",
        "1. Write the Python code in the editor and save the file with a .py extension. For example, test.py.\n",
        "\n",
        "2. Open the command prompt.\n",
        "\n",
        "3. Navigate to the directory where we saved our Python script using the cd command. Ex: cd Downloads\n",
        "\n",
        "4. Run the Python script using:\n",
        "\n",
        "  python test.py"
      ],
      "metadata": {
        "id": "PrXUXAyW7-uQ"
      }
    },
    {
      "cell_type": "markdown",
      "source": [
        "**Q5. Given a list my_list = [1, 2, 3, 4, 5], write the code to slice the list and obtain the sub-list [2, 3].**"
      ],
      "metadata": {
        "id": "nc8pe11h9l-l"
      }
    },
    {
      "cell_type": "code",
      "source": [
        "my_list = [1, 2, 3, 4, 5]\n",
        "sub_list = my_list[1:3]\n",
        "print(sub_list)"
      ],
      "metadata": {
        "colab": {
          "base_uri": "https://localhost:8080/"
        },
        "id": "mNlz5XSg9oIe",
        "outputId": "54bd3107-4eab-417a-8f37-34c2c3eaf79f"
      },
      "execution_count": 9,
      "outputs": [
        {
          "output_type": "stream",
          "name": "stdout",
          "text": [
            "[2, 3]\n"
          ]
        }
      ]
    },
    {
      "cell_type": "markdown",
      "source": [
        "**Q6. What is a complex number in mathematics, and how is it represented in Python?**\n",
        "\n",
        "Ans: In mathematics, a complex number is a number that comprises a real part and an imaginary part. It is expressed in the form of a + bi, where a represents the real part, b represents the imaginary part, and i represents the imaginary unit, which is defined as the square root of -1. The real part a and the imaginary part b are both real numbers."
      ],
      "metadata": {
        "id": "nZDkEZj893Ma"
      }
    },
    {
      "cell_type": "code",
      "source": [
        "complex_num = 5 + 7j\n",
        "complex_num"
      ],
      "metadata": {
        "colab": {
          "base_uri": "https://localhost:8080/"
        },
        "id": "zZ-9aFTo9-xX",
        "outputId": "ff43b9ea-0207-4e2c-b50c-279dd519a302"
      },
      "execution_count": 10,
      "outputs": [
        {
          "output_type": "execute_result",
          "data": {
            "text/plain": [
              "(5+7j)"
            ]
          },
          "metadata": {},
          "execution_count": 10
        }
      ]
    },
    {
      "cell_type": "markdown",
      "source": [
        "**Q7. What is the correct way to declare a variable named age and assign the value 25 to it?**"
      ],
      "metadata": {
        "id": "3uqJnDnC-4i6"
      }
    },
    {
      "cell_type": "code",
      "source": [
        "age = 25\n",
        "age"
      ],
      "metadata": {
        "colab": {
          "base_uri": "https://localhost:8080/"
        },
        "id": "HDFBfXLn-7Al",
        "outputId": "d37aa466-7bc2-4654-a43a-f7ece784cd3c"
      },
      "execution_count": 11,
      "outputs": [
        {
          "output_type": "execute_result",
          "data": {
            "text/plain": [
              "25"
            ]
          },
          "metadata": {},
          "execution_count": 11
        }
      ]
    },
    {
      "cell_type": "markdown",
      "source": [
        "**Q8. Declare a variable named price and assign the value 9.99 to it. What data type does this variable belong to?**"
      ],
      "metadata": {
        "id": "jVVlAAEiBGg9"
      }
    },
    {
      "cell_type": "code",
      "source": [
        "price = 9.99\n",
        "print(type(price))"
      ],
      "metadata": {
        "colab": {
          "base_uri": "https://localhost:8080/"
        },
        "id": "-p6wTFbSBOwt",
        "outputId": "581a0a91-9603-4464-cab1-9a4065c81b36"
      },
      "execution_count": 12,
      "outputs": [
        {
          "output_type": "stream",
          "name": "stdout",
          "text": [
            "<class 'float'>\n"
          ]
        }
      ]
    },
    {
      "cell_type": "markdown",
      "source": [
        "**Q9. Create a variable named name and assign your full name to it as a string. How would you print the value of this variable?**"
      ],
      "metadata": {
        "id": "iMzzqJVEBdmV"
      }
    },
    {
      "cell_type": "code",
      "source": [
        "name = \"Vimal Shrivastava\"\n",
        "print(name)\n",
        "print(type(name))"
      ],
      "metadata": {
        "colab": {
          "base_uri": "https://localhost:8080/"
        },
        "id": "MHj_QBt7BgXZ",
        "outputId": "df70804f-3c62-4781-c87d-1d21465b3959"
      },
      "execution_count": 14,
      "outputs": [
        {
          "output_type": "stream",
          "name": "stdout",
          "text": [
            "Vimal Shrivastava\n",
            "<class 'str'>\n"
          ]
        }
      ]
    },
    {
      "cell_type": "markdown",
      "source": [],
      "metadata": {
        "id": "6j_Hd78_CApU"
      }
    },
    {
      "cell_type": "markdown",
      "source": [
        "**Q10. Given the string \"Hello, World!\", extract the substring \"World\".**"
      ],
      "metadata": {
        "id": "XaWtuWXZBwLF"
      }
    },
    {
      "cell_type": "code",
      "source": [
        "str_var = \"Hello, World!\"\n",
        "print(str_var[7:-1])"
      ],
      "metadata": {
        "colab": {
          "base_uri": "https://localhost:8080/"
        },
        "id": "sMlLrb7DByRx",
        "outputId": "651810bb-5d51-454f-ebb9-cb5887f26d26"
      },
      "execution_count": 17,
      "outputs": [
        {
          "output_type": "stream",
          "name": "stdout",
          "text": [
            "World\n"
          ]
        }
      ]
    },
    {
      "cell_type": "markdown",
      "source": [
        "**Q11. Create a variable named \"is_student\" and assign it a boolean value indicating whether you are currently a student or not.**"
      ],
      "metadata": {
        "id": "S0CU3hhUCJ3l"
      }
    },
    {
      "cell_type": "code",
      "source": [
        "is_student = False\n",
        "print(is_student)\n",
        "print(type(is_student))"
      ],
      "metadata": {
        "colab": {
          "base_uri": "https://localhost:8080/"
        },
        "id": "szQY5-ReCOZB",
        "outputId": "73c5665d-ab64-4c90-8fed-bd60c5bd2689"
      },
      "execution_count": 18,
      "outputs": [
        {
          "output_type": "stream",
          "name": "stdout",
          "text": [
            "False\n",
            "<class 'bool'>\n"
          ]
        }
      ]
    }
  ]
}
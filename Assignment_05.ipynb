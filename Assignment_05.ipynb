{
  "nbformat": 4,
  "nbformat_minor": 0,
  "metadata": {
    "colab": {
      "provenance": [],
      "gpuType": "T4"
    },
    "kernelspec": {
      "name": "python3",
      "display_name": "Python 3"
    },
    "language_info": {
      "name": "python"
    },
    "accelerator": "GPU"
  },
  "cells": [
    {
      "cell_type": "markdown",
      "source": [
        "**Q1. Create a vehicle class with an init method having instance variables as name_of_vehicle, max_speed and average_of_vehicle.**"
      ],
      "metadata": {
        "id": "e7JyfDs2-Dbg"
      }
    },
    {
      "cell_type": "code",
      "source": [
        "class vehicle:\n",
        "\n",
        "      def __init__(self, name_of_vehicle, max_speed, average_of_vehicle):\n",
        "          self.name_of_vehicle = name_of_vehicle\n",
        "          self.max_speed = max_speed\n",
        "          self.average_of_vehicle = average_of_vehicle\n",
        "\n",
        "      def vehicle_details(self):\n",
        "          return (self.name_of_vehicle, self.max_speed, self.average_of_vehicle)"
      ],
      "metadata": {
        "id": "PMP5r72K-5mc"
      },
      "execution_count": 22,
      "outputs": []
    },
    {
      "cell_type": "code",
      "source": [
        "car1 = vehicle(\"Tata_Nexon\", 120, 15)"
      ],
      "metadata": {
        "id": "Y9YrJDgmi7Q4"
      },
      "execution_count": 26,
      "outputs": []
    },
    {
      "cell_type": "code",
      "source": [
        "car1.vehicle_details()"
      ],
      "metadata": {
        "colab": {
          "base_uri": "https://localhost:8080/"
        },
        "id": "4E7CKl7_jPQ8",
        "outputId": "56b1d1d9-3f58-4085-8813-db4247ccfec9"
      },
      "execution_count": 27,
      "outputs": [
        {
          "output_type": "execute_result",
          "data": {
            "text/plain": [
              "('Tata_Nexon', 120, 15)"
            ]
          },
          "metadata": {},
          "execution_count": 27
        }
      ]
    },
    {
      "cell_type": "markdown",
      "source": [
        "**Q2. Create a child class car from the vehicle class created in Que 1, which will inherit the vehicle class. Create a method named seating_capacity which takes capacity as an argument and returns the name of the vehicle and its seating capacity.**"
      ],
      "metadata": {
        "id": "-G-KLeyzj7JI"
      }
    },
    {
      "cell_type": "code",
      "source": [
        "class vehicle:\n",
        "\n",
        "      def __init__(self, name_of_vehicle, max_speed, average_of_vehicle):\n",
        "          self.name_of_vehicle = name_of_vehicle\n",
        "          self.max_speed = max_speed\n",
        "          self.average_of_vehicle = average_of_vehicle\n",
        "\n",
        "class car(vehicle):\n",
        "\n",
        "      def seating_capacity(self, capacity):\n",
        "          return (self.name_of_vehicle, capacity)"
      ],
      "metadata": {
        "id": "gbBdN_kokFXl"
      },
      "execution_count": 39,
      "outputs": []
    },
    {
      "cell_type": "code",
      "source": [
        "car2 = car(\"Tata_Nexon\", 120, 15)"
      ],
      "metadata": {
        "id": "yyAPdgWMk5Wh"
      },
      "execution_count": 40,
      "outputs": []
    },
    {
      "cell_type": "code",
      "source": [
        "car2.seating_capacity(5)"
      ],
      "metadata": {
        "colab": {
          "base_uri": "https://localhost:8080/"
        },
        "id": "WCKJ65FKl7ac",
        "outputId": "da20d815-705b-4604-d40f-2cf94042b7ac"
      },
      "execution_count": 41,
      "outputs": [
        {
          "output_type": "execute_result",
          "data": {
            "text/plain": [
              "('Tata_Nexon', 5)"
            ]
          },
          "metadata": {},
          "execution_count": 41
        }
      ]
    },
    {
      "cell_type": "markdown",
      "source": [
        "**Q3. What is multiple inheritance? Write a python code to demonstrate multiple inheritance.**\n",
        "\n",
        "Ans: Multiple inheritance is a feature in OOPs that allows a class to inherit attributes and behaviors from multiple base classes."
      ],
      "metadata": {
        "id": "L5Qw1X6Aoc6q"
      }
    },
    {
      "cell_type": "code",
      "source": [
        "class class1:\n",
        "\n",
        "    def class1_fun(self):\n",
        "        print(\"This is class1\")"
      ],
      "metadata": {
        "id": "TAH4mRgmovIf"
      },
      "execution_count": 48,
      "outputs": []
    },
    {
      "cell_type": "code",
      "source": [
        "class class2:\n",
        "\n",
        "    def class2_fun(self):\n",
        "        print(\"This is class2\")"
      ],
      "metadata": {
        "id": "BiApdZgCpOv3"
      },
      "execution_count": 49,
      "outputs": []
    },
    {
      "cell_type": "code",
      "source": [
        "class class3(class1, class2):\n",
        "    \n",
        "    pass"
      ],
      "metadata": {
        "id": "CTfLiYdrpS0E"
      },
      "execution_count": 50,
      "outputs": []
    },
    {
      "cell_type": "code",
      "source": [
        "class3_obj = class3()"
      ],
      "metadata": {
        "id": "azdP-xv6pZtd"
      },
      "execution_count": 51,
      "outputs": []
    },
    {
      "cell_type": "code",
      "source": [
        "class3_obj.class1_fun()"
      ],
      "metadata": {
        "colab": {
          "base_uri": "https://localhost:8080/"
        },
        "id": "TOMTgTzapiBB",
        "outputId": "2d72cd5a-92d1-46f8-84a4-6a84c16035c7"
      },
      "execution_count": 53,
      "outputs": [
        {
          "output_type": "stream",
          "name": "stdout",
          "text": [
            "This is class1\n"
          ]
        }
      ]
    },
    {
      "cell_type": "code",
      "source": [
        "class3_obj.class2_fun()"
      ],
      "metadata": {
        "colab": {
          "base_uri": "https://localhost:8080/"
        },
        "id": "Q06gbN6Rp-2A",
        "outputId": "885adf44-ac17-4b52-9e62-56c237bb61a9"
      },
      "execution_count": 54,
      "outputs": [
        {
          "output_type": "stream",
          "name": "stdout",
          "text": [
            "This is class2\n"
          ]
        }
      ]
    },
    {
      "cell_type": "markdown",
      "source": [
        "**Q4. What are getter and setter in python? Create a class and create a getter and a setter method in this class.**\n",
        "\n",
        "Ans: In Python, getters and setters are methods that provide controlled access to class attributes or properties. They allow to retrieve (get) and modify (set) the values of private attributes or perform additional operations when accessing or updating the attribute."
      ],
      "metadata": {
        "id": "IwGbWi-BqW4Y"
      }
    },
    {
      "cell_type": "code",
      "source": [
        "class bank_account:\n",
        "\n",
        "      def __init__(self, nominee_name):\n",
        "          self.__nominee_name = nominee_name\n",
        "\n",
        "      def get_nominee(self):\n",
        "          return self.__nominee_name\n",
        "\n",
        "      def set_nominee(self, new_name):\n",
        "          self.__nominee_name = new_name"
      ],
      "metadata": {
        "id": "Qucpa1lNqYjc"
      },
      "execution_count": 60,
      "outputs": []
    },
    {
      "cell_type": "code",
      "source": [
        "my_account = bank_account(\"abc\")"
      ],
      "metadata": {
        "id": "vL7KcwZ6scco"
      },
      "execution_count": 61,
      "outputs": []
    },
    {
      "cell_type": "code",
      "source": [
        "my_account.get_nominee()"
      ],
      "metadata": {
        "colab": {
          "base_uri": "https://localhost:8080/",
          "height": 36
        },
        "id": "wWgwX_Mesm7y",
        "outputId": "0779145a-8586-45ac-c7de-266650c47ec9"
      },
      "execution_count": 62,
      "outputs": [
        {
          "output_type": "execute_result",
          "data": {
            "text/plain": [
              "'abc'"
            ],
            "application/vnd.google.colaboratory.intrinsic+json": {
              "type": "string"
            }
          },
          "metadata": {},
          "execution_count": 62
        }
      ]
    },
    {
      "cell_type": "code",
      "source": [
        "my_account.set_nominee(\"xyz\")\n",
        "my_account.get_nominee()"
      ],
      "metadata": {
        "colab": {
          "base_uri": "https://localhost:8080/",
          "height": 36
        },
        "id": "UsxDLs2dshXt",
        "outputId": "c4f4d612-27e6-4c0c-e41c-d31b2f9fd06d"
      },
      "execution_count": 64,
      "outputs": [
        {
          "output_type": "execute_result",
          "data": {
            "text/plain": [
              "'xyz'"
            ],
            "application/vnd.google.colaboratory.intrinsic+json": {
              "type": "string"
            }
          },
          "metadata": {},
          "execution_count": 64
        }
      ]
    },
    {
      "cell_type": "markdown",
      "source": [
        "**Q5.What is method overriding in python? Write a python code to demonstrate method overriding.**\n",
        "\n",
        "Ans: Method overriding is a feature in OOPs that allows a subclass to provide a different implementation of a method that is already defined in its superclass. \n",
        "\n",
        "Method overriding is achieved by defining a method with the same name in the subclass as in the superclass. This allows the subclass to override the behavior of the method inherited from the superclass."
      ],
      "metadata": {
        "id": "_lv98S8XtLjI"
      }
    },
    {
      "cell_type": "code",
      "source": [
        "class class1:\n",
        "\n",
        "    def function(self):\n",
        "        return (\"This is a method of class 1\")\n",
        "\n",
        "class class2:\n",
        "\n",
        "    def function(self):\n",
        "        return (\"This is a method of class 2\")"
      ],
      "metadata": {
        "id": "1s3jZ5gbuLjD"
      },
      "execution_count": 65,
      "outputs": []
    },
    {
      "cell_type": "code",
      "source": [
        "obj1 = class1()\n",
        "obj1.function()"
      ],
      "metadata": {
        "colab": {
          "base_uri": "https://localhost:8080/",
          "height": 36
        },
        "id": "T0WEKkLtupTi",
        "outputId": "d8695f90-88e5-458f-d513-8c937511c1de"
      },
      "execution_count": 69,
      "outputs": [
        {
          "output_type": "execute_result",
          "data": {
            "text/plain": [
              "'This is a method of class 1'"
            ],
            "application/vnd.google.colaboratory.intrinsic+json": {
              "type": "string"
            }
          },
          "metadata": {},
          "execution_count": 69
        }
      ]
    },
    {
      "cell_type": "code",
      "source": [
        "obj2 = class2()\n",
        "obj2.function()"
      ],
      "metadata": {
        "colab": {
          "base_uri": "https://localhost:8080/",
          "height": 36
        },
        "id": "mVb64KyRuxQm",
        "outputId": "c6e9f366-149f-4a06-c5b0-77ddadeb079e"
      },
      "execution_count": 70,
      "outputs": [
        {
          "output_type": "execute_result",
          "data": {
            "text/plain": [
              "'This is a method of class 2'"
            ],
            "application/vnd.google.colaboratory.intrinsic+json": {
              "type": "string"
            }
          },
          "metadata": {},
          "execution_count": 70
        }
      ]
    }
  ]
}
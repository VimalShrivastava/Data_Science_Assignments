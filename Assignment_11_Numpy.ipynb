{
  "nbformat": 4,
  "nbformat_minor": 0,
  "metadata": {
    "colab": {
      "provenance": []
    },
    "kernelspec": {
      "name": "python3",
      "display_name": "Python 3"
    },
    "language_info": {
      "name": "python"
    }
  },
  "cells": [
    {
      "cell_type": "code",
      "source": [
        "# Consider the below code to answer further questions:\n",
        "\n",
        "import numpy as np\n",
        "\n",
        "list_ = [ '1', '2', '3', '4', '5']\n",
        "\n",
        "array_list = np.array(object = list_)\n",
        "print(array_list)"
      ],
      "metadata": {
        "colab": {
          "base_uri": "https://localhost:8080/"
        },
        "id": "UqNH02mDgR-i",
        "outputId": "63364cf7-d147-4b03-db80-d2ca5e467342"
      },
      "execution_count": 1,
      "outputs": [
        {
          "output_type": "stream",
          "name": "stdout",
          "text": [
            "['1' '2' '3' '4' '5']\n"
          ]
        }
      ]
    },
    {
      "cell_type": "markdown",
      "source": [
        "**Q1.** Is there any difference in the data type of variables list_ and array_list? If there is then write a code\n",
        "to print the data types of both the variables."
      ],
      "metadata": {
        "id": "wmeH5848go8k"
      }
    },
    {
      "cell_type": "code",
      "source": [
        "# Yes, there is a difference in the data types of the list_ and array_list variables.\n",
        "# The elements in the list_ are of type string, while the elements in the array_list are of type numpy string.\n",
        "\n",
        "print(\"Data type of list_:\", type(list_[0]))\n",
        "print(\"Data type of array_list:\", type(array_list[0]))\n"
      ],
      "metadata": {
        "colab": {
          "base_uri": "https://localhost:8080/"
        },
        "id": "3jwrIZGagqYr",
        "outputId": "c3670902-0e2d-4243-a3bd-9453bf91edc0"
      },
      "execution_count": 3,
      "outputs": [
        {
          "output_type": "stream",
          "name": "stdout",
          "text": [
            "Data type of list_: <class 'str'>\n",
            "Data type of array_list: <class 'numpy.str_'>\n"
          ]
        }
      ]
    },
    {
      "cell_type": "markdown",
      "source": [
        "**Q2.** Write a code to print the data type of each and every element of both the variables list_ and arra_list."
      ],
      "metadata": {
        "id": "Su8FC916hix_"
      }
    },
    {
      "cell_type": "code",
      "source": [
        "# Print data types for each element in list_\n",
        "print(\"Data types in list_:\")\n",
        "for element in list_:\n",
        "    print(type(element))\n",
        "\n",
        "# Print data types for each element in array_list\n",
        "print(\"\\nData types in array_list:\")\n",
        "for element in array_list:\n",
        "    print(type(element))"
      ],
      "metadata": {
        "colab": {
          "base_uri": "https://localhost:8080/"
        },
        "id": "6wdl29YKhqN5",
        "outputId": "9a8d8652-3896-4d40-c72b-81bca04c14c6"
      },
      "execution_count": 4,
      "outputs": [
        {
          "output_type": "stream",
          "name": "stdout",
          "text": [
            "Data types in list_:\n",
            "<class 'str'>\n",
            "<class 'str'>\n",
            "<class 'str'>\n",
            "<class 'str'>\n",
            "<class 'str'>\n",
            "\n",
            "Data types in array_list:\n",
            "<class 'numpy.str_'>\n",
            "<class 'numpy.str_'>\n",
            "<class 'numpy.str_'>\n",
            "<class 'numpy.str_'>\n",
            "<class 'numpy.str_'>\n"
          ]
        }
      ]
    },
    {
      "cell_type": "markdown",
      "source": [
        "**Q3.** Considering the following changes in the variable, array_list:\n",
        "\n",
        "array_list = np.array(object = list_, dtype = int)\n",
        "\n",
        "Will there be any difference in the data type of the elements present in both the variables, list_ and arra_list? If so then print the data types of each and every element present in both the variables, list_ and arra_list."
      ],
      "metadata": {
        "id": "6n1SvdBWh88k"
      }
    },
    {
      "cell_type": "code",
      "source": [
        "# Yes, with the given change where we explicitly set the data type of the NumPy array array_list to int,\n",
        "# there will be a difference in the data types.\n",
        "# The elements in list_ are of type string, while the elements in array_list will be of type integer.\n",
        "\n",
        "import numpy as np\n",
        "\n",
        "list_ = ['1', '2', '3', '4', '5']\n",
        "array_list = np.array(object=list_, dtype=int)\n",
        "\n",
        "# Print data types for each element in list_\n",
        "print(\"Data types in list_:\")\n",
        "for element in list_:\n",
        "    print(type(element))\n",
        "\n",
        "# Print data types for each element in array_list\n",
        "print(\"\\nData types in array_list:\")\n",
        "for element in array_list:\n",
        "    print(type(element))"
      ],
      "metadata": {
        "colab": {
          "base_uri": "https://localhost:8080/"
        },
        "id": "i_4lwGITiJdO",
        "outputId": "b01c1d80-6bb0-4d0d-a8bf-bac8a2ee270b"
      },
      "execution_count": 6,
      "outputs": [
        {
          "output_type": "stream",
          "name": "stdout",
          "text": [
            "Data types in list_:\n",
            "<class 'str'>\n",
            "<class 'str'>\n",
            "<class 'str'>\n",
            "<class 'str'>\n",
            "<class 'str'>\n",
            "\n",
            "Data types in array_list:\n",
            "<class 'numpy.int64'>\n",
            "<class 'numpy.int64'>\n",
            "<class 'numpy.int64'>\n",
            "<class 'numpy.int64'>\n",
            "<class 'numpy.int64'>\n"
          ]
        }
      ]
    },
    {
      "cell_type": "code",
      "source": [
        "# Consider the below code to answer further questions:\n",
        "\n",
        "import numpy as np\n",
        "\n",
        "num_list = [ [ 1 , 2 , 3 ] , [ 4 , 5 , 6 ] ]\n",
        "print(num_list)\n",
        "\n",
        "num_array = np.array(object = num_list)\n",
        "print('\\n')\n",
        "print(num_list)"
      ],
      "metadata": {
        "colab": {
          "base_uri": "https://localhost:8080/"
        },
        "id": "j8BXOxKwjkvJ",
        "outputId": "bc154a43-a007-4e18-b703-c8a61d60f7ad"
      },
      "execution_count": 7,
      "outputs": [
        {
          "output_type": "stream",
          "name": "stdout",
          "text": [
            "[[1, 2, 3], [4, 5, 6]]\n",
            "\n",
            "\n",
            "[[1, 2, 3], [4, 5, 6]]\n"
          ]
        }
      ]
    },
    {
      "cell_type": "markdown",
      "source": [
        "**Q4.** Write a code to find the following characteristics of variable, num_array:\n",
        "\n",
        "(i) shape\n",
        "\n",
        "(ii) size\n"
      ],
      "metadata": {
        "id": "NF5CtlOSje7P"
      }
    },
    {
      "cell_type": "code",
      "source": [
        "print(\"Shape of num_array is:\", num_array.shape)\n",
        "print(\"Size of num_array is:\",num_array.size)"
      ],
      "metadata": {
        "colab": {
          "base_uri": "https://localhost:8080/"
        },
        "id": "c84CHONlkJ06",
        "outputId": "8cad7cdd-1900-426b-e3c9-ef3f6df8edd2"
      },
      "execution_count": 12,
      "outputs": [
        {
          "output_type": "stream",
          "name": "stdout",
          "text": [
            "Shape of num_array is: (2, 3)\n",
            "Size of num_array is: 6\n"
          ]
        }
      ]
    },
    {
      "cell_type": "markdown",
      "source": [
        "**Q5.** Write a code to create numpy array of 3*3 matrix containing zeros only, using a numpy array creation function.\n",
        "\n",
        "[Hint: The size of the array will be 9 and the shape will be (3,3).]"
      ],
      "metadata": {
        "id": "ZuQnAn0MkvnT"
      }
    },
    {
      "cell_type": "code",
      "source": [
        "zeros_array = np.zeros((3, 3))\n",
        "\n",
        "print(zeros_array)"
      ],
      "metadata": {
        "colab": {
          "base_uri": "https://localhost:8080/"
        },
        "id": "BPsHgqMdjGAV",
        "outputId": "55f8b468-3e0c-4dcc-bf0f-fa9e84840dce"
      },
      "execution_count": 13,
      "outputs": [
        {
          "output_type": "stream",
          "name": "stdout",
          "text": [
            "[[0. 0. 0.]\n",
            " [0. 0. 0.]\n",
            " [0. 0. 0.]]\n"
          ]
        }
      ]
    },
    {
      "cell_type": "markdown",
      "source": [
        "**Q6.** Create an identity matrix of shape (5,5) using numpy functions?\n",
        "\n",
        "[Hint: An identity matrix is a matrix containing 1 diagonally and other elements will be 0.]"
      ],
      "metadata": {
        "id": "fJhGDDfFlJZv"
      }
    },
    {
      "cell_type": "code",
      "source": [
        "identity_matrix = np.eye(5)\n",
        "\n",
        "print(identity_matrix)"
      ],
      "metadata": {
        "colab": {
          "base_uri": "https://localhost:8080/"
        },
        "id": "EnvjV4K6lQl6",
        "outputId": "5ddc46ec-673e-4c38-cac9-4f7303096d93"
      },
      "execution_count": 14,
      "outputs": [
        {
          "output_type": "stream",
          "name": "stdout",
          "text": [
            "[[1. 0. 0. 0. 0.]\n",
            " [0. 1. 0. 0. 0.]\n",
            " [0. 0. 1. 0. 0.]\n",
            " [0. 0. 0. 1. 0.]\n",
            " [0. 0. 0. 0. 1.]]\n"
          ]
        }
      ]
    }
  ]
}